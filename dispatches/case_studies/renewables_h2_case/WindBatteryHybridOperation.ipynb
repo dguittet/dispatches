{
 "cells": [
  {
   "cell_type": "code",
   "execution_count": 1,
   "metadata": {},
   "outputs": [],
   "source": [
    "import matplotlib.pyplot as plt\n",
    "import numpy as np\n",
    "\n",
    "from sklearn.datasets import load_diabetes\n",
    "from sklearn.ensemble import GradientBoostingRegressor\n",
    "from sklearn.ensemble import RandomForestRegressor\n",
    "from sklearn.tree import DecisionTreeRegressor, plot_tree, export_graphviz\n",
    "from sklearn.linear_model import LinearRegression\n",
    "from sklearn.ensemble import VotingRegressor"
   ]
  },
  {
   "cell_type": "markdown",
   "metadata": {},
   "source": [
    "Inputs will be:\n",
    "\n",
    " - Load [MW]\n",
    " - Wind Excess [MW]\n",
    " - Wind Shortage [MW]\n",
    " - Previous State of Charge [MWh]\n",
    " - Previous Tank Holdup [kg]\n",
    " - Next 4, 8, 12, 16, 24 Hrs Excess\n",
    " - Next 4, 8, 12, 16, 24 Hrs Shortage\n",
    "\n",
    "Outputs will be:\n",
    "\n",
    " - Ratio Battery Input to Nameplate [MW]\n",
    " - Ratio PEM Input to Nameplate [MW]\n",
    " - Ratio Battery Output to Nameplate [MW]\n",
    " - Ratio Turbine Output to Nameplate[MW]"
   ]
  },
  {
   "cell_type": "code",
   "execution_count": 90,
   "metadata": {},
   "outputs": [
    {
     "data": {
      "text/html": [
       "<style>#sk-container-id-5 {color: black;background-color: white;}#sk-container-id-5 pre{padding: 0;}#sk-container-id-5 div.sk-toggleable {background-color: white;}#sk-container-id-5 label.sk-toggleable__label {cursor: pointer;display: block;width: 100%;margin-bottom: 0;padding: 0.3em;box-sizing: border-box;text-align: center;}#sk-container-id-5 label.sk-toggleable__label-arrow:before {content: \"▸\";float: left;margin-right: 0.25em;color: #696969;}#sk-container-id-5 label.sk-toggleable__label-arrow:hover:before {color: black;}#sk-container-id-5 div.sk-estimator:hover label.sk-toggleable__label-arrow:before {color: black;}#sk-container-id-5 div.sk-toggleable__content {max-height: 0;max-width: 0;overflow: hidden;text-align: left;background-color: #f0f8ff;}#sk-container-id-5 div.sk-toggleable__content pre {margin: 0.2em;color: black;border-radius: 0.25em;background-color: #f0f8ff;}#sk-container-id-5 input.sk-toggleable__control:checked~div.sk-toggleable__content {max-height: 200px;max-width: 100%;overflow: auto;}#sk-container-id-5 input.sk-toggleable__control:checked~label.sk-toggleable__label-arrow:before {content: \"▾\";}#sk-container-id-5 div.sk-estimator input.sk-toggleable__control:checked~label.sk-toggleable__label {background-color: #d4ebff;}#sk-container-id-5 div.sk-label input.sk-toggleable__control:checked~label.sk-toggleable__label {background-color: #d4ebff;}#sk-container-id-5 input.sk-hidden--visually {border: 0;clip: rect(1px 1px 1px 1px);clip: rect(1px, 1px, 1px, 1px);height: 1px;margin: -1px;overflow: hidden;padding: 0;position: absolute;width: 1px;}#sk-container-id-5 div.sk-estimator {font-family: monospace;background-color: #f0f8ff;border: 1px dotted black;border-radius: 0.25em;box-sizing: border-box;margin-bottom: 0.5em;}#sk-container-id-5 div.sk-estimator:hover {background-color: #d4ebff;}#sk-container-id-5 div.sk-parallel-item::after {content: \"\";width: 100%;border-bottom: 1px solid gray;flex-grow: 1;}#sk-container-id-5 div.sk-label:hover label.sk-toggleable__label {background-color: #d4ebff;}#sk-container-id-5 div.sk-serial::before {content: \"\";position: absolute;border-left: 1px solid gray;box-sizing: border-box;top: 0;bottom: 0;left: 50%;z-index: 0;}#sk-container-id-5 div.sk-serial {display: flex;flex-direction: column;align-items: center;background-color: white;padding-right: 0.2em;padding-left: 0.2em;position: relative;}#sk-container-id-5 div.sk-item {position: relative;z-index: 1;}#sk-container-id-5 div.sk-parallel {display: flex;align-items: stretch;justify-content: center;background-color: white;position: relative;}#sk-container-id-5 div.sk-item::before, #sk-container-id-5 div.sk-parallel-item::before {content: \"\";position: absolute;border-left: 1px solid gray;box-sizing: border-box;top: 0;bottom: 0;left: 50%;z-index: -1;}#sk-container-id-5 div.sk-parallel-item {display: flex;flex-direction: column;z-index: 1;position: relative;background-color: white;}#sk-container-id-5 div.sk-parallel-item:first-child::after {align-self: flex-end;width: 50%;}#sk-container-id-5 div.sk-parallel-item:last-child::after {align-self: flex-start;width: 50%;}#sk-container-id-5 div.sk-parallel-item:only-child::after {width: 0;}#sk-container-id-5 div.sk-dashed-wrapped {border: 1px dashed gray;margin: 0 0.4em 0.5em 0.4em;box-sizing: border-box;padding-bottom: 0.4em;background-color: white;}#sk-container-id-5 div.sk-label label {font-family: monospace;font-weight: bold;display: inline-block;line-height: 1.2em;}#sk-container-id-5 div.sk-label-container {text-align: center;}#sk-container-id-5 div.sk-container {/* jupyter's `normalize.less` sets `[hidden] { display: none; }` but bootstrap.min.css set `[hidden] { display: none !important; }` so we also need the `!important` here to be able to override the default hidden behavior on the sphinx rendered scikit-learn.org. See: https://github.com/scikit-learn/scikit-learn/issues/21755 */display: inline-block !important;position: relative;}#sk-container-id-5 div.sk-text-repr-fallback {display: none;}</style><div id=\"sk-container-id-5\" class=\"sk-top-container\"><div class=\"sk-text-repr-fallback\"><pre>LinearRegression()</pre><b>In a Jupyter environment, please rerun this cell to show the HTML representation or trust the notebook. <br />On GitHub, the HTML representation is unable to render, please try loading this page with nbviewer.org.</b></div><div class=\"sk-container\" hidden><div class=\"sk-item\"><div class=\"sk-estimator sk-toggleable\"><input class=\"sk-toggleable__control sk-hidden--visually\" id=\"sk-estimator-id-8\" type=\"checkbox\" checked><label for=\"sk-estimator-id-8\" class=\"sk-toggleable__label sk-toggleable__label-arrow\">LinearRegression</label><div class=\"sk-toggleable__content\"><pre>LinearRegression()</pre></div></div></div></div></div>"
      ],
      "text/plain": [
       "LinearRegression()"
      ]
     },
     "execution_count": 90,
     "metadata": {},
     "output_type": "execute_result"
    }
   ],
   "source": [
    "X, y = load_diabetes(return_X_y=True)\n",
    "y = np.array([(r, r) for r in y])\n",
    "X.shape, y.shape\n",
    "\n",
    "reg2 = DecisionTreeRegressor(random_state=1, max_depth=5)\n",
    "\n",
    "reg2.fit(X, y)"
   ]
  },
  {
   "cell_type": "code",
   "execution_count": 92,
   "metadata": {},
   "outputs": [],
   "source": [
    "xt = X[:20]\n",
    "\n",
    "pred2 = reg2.predict(xt)"
   ]
  },
  {
   "cell_type": "code",
   "execution_count": 106,
   "metadata": {},
   "outputs": [
    {
     "data": {
      "text/plain": [
       "'decision_tree_graphivz.png'"
      ]
     },
     "execution_count": 106,
     "metadata": {},
     "output_type": "execute_result"
    }
   ],
   "source": [
    "import graphviz\n",
    "graph = graphviz.Source(export_graphviz(reg2, filled=True), format='png')\n",
    "graph.render(\"decision_tree_graphivz\")"
   ]
  },
  {
   "cell_type": "code",
   "execution_count": 2,
   "metadata": {},
   "outputs": [],
   "source": [
    "import pandas as pd\n",
    "import os\n",
    "import json\n",
    "from pathlib import Path\n",
    "from dispatches.case_studies.renewables_h2_case.re_h2_parameters import re_h2_parameters, get_gen_outputs_from_rtsgmlc, kg_to_tons, h2_mols_per_kg\n",
    "\n",
    "\n",
    "results_dir = Path(\"double_loop_317_CT_batth2\")\n",
    "with open(results_dir / \"input_parameters.json\", \"r\") as f:\n",
    "    params = json.load(f)\n",
    "year_results = pd.read_csv(results_dir / \"design_timeseries_minsocfree.csv\")\n",
    "year_results.drop(columns=\"Unnamed: 0\", inplace=True)\n",
    "wind_gen = \"317_WIND\"\n",
    "wind_gen_pmax = 799.1\n",
    "gas_gen = \"317_CT\"\n",
    "reserves = 15\n",
    "shortfall = 500\n",
    "start_date = '2020-01-01 00:00:00'\n",
    "wind_cfs, wind_resource, loads_mw = get_gen_outputs_from_rtsgmlc(wind_gen, gas_gen, reserves, shortfall, start_date)\n",
    "loads_mw = loads_mw[0:len(year_results)]\n",
    "year_results[\"Load [MW]\"] = loads_mw\n",
    "year_results[\"Wind Max [MW]\"] = params['wind_mw'] * wind_cfs"
   ]
  },
  {
   "cell_type": "code",
   "execution_count": 278,
   "metadata": {},
   "outputs": [
    {
     "name": "stdout",
     "output_type": "stream",
     "text": [
      "-1.1368683772161603e-13\n"
     ]
    },
    {
     "data": {
      "text/plain": [
       "(938.2642208527126, 103.09692684162998, 52.3606594620324, 3.467294011082569)"
      ]
     },
     "execution_count": 278,
     "metadata": {},
     "output_type": "execute_result"
    }
   ],
   "source": [
    "print((year_results['Total Power Output [MW]'] - year_results['Load [MW]']).clip(upper=0).sum())\n",
    "params['batt_mw'] = year_results['Battery Power Output [MW]'].max()\n",
    "params['pem_mw'] = year_results['Wind Power to PEM [MW]'].max()\n",
    "params['turb_mw'] = year_results['Turbine Power Output [MW]'].max()\n",
    "year_results['Total Wind Generation [MW]'].max(), year_results['Battery Power Output [MW]'].max(), year_results['Turbine Power Output [MW]'].max(), year_results['Wind Power to PEM [MW]'].max()\n"
   ]
  },
  {
   "cell_type": "code",
   "execution_count": 356,
   "metadata": {},
   "outputs": [
    {
     "name": "stdout",
     "output_type": "stream",
     "text": [
      "tank_target_1_minsocfree\n",
      "dtree_12_1_minsocfree\n"
     ]
    },
    {
     "data": {
      "text/html": [
       "<div>\n",
       "<style scoped>\n",
       "    .dataframe tbody tr th:only-of-type {\n",
       "        vertical-align: middle;\n",
       "    }\n",
       "\n",
       "    .dataframe tbody tr th {\n",
       "        vertical-align: top;\n",
       "    }\n",
       "\n",
       "    .dataframe thead th {\n",
       "        text-align: right;\n",
       "    }\n",
       "</style>\n",
       "<table border=\"1\" class=\"dataframe\">\n",
       "  <thead>\n",
       "    <tr style=\"text-align: right;\">\n",
       "      <th></th>\n",
       "      <th>Wind MW</th>\n",
       "      <th>Batt MW</th>\n",
       "      <th>Batt MWh</th>\n",
       "      <th>PEM MW</th>\n",
       "      <th>Turb MW</th>\n",
       "      <th>Tank Ton</th>\n",
       "      <th>Capital Cost</th>\n",
       "      <th>NPV</th>\n",
       "      <th>Missed MW - Tank Target</th>\n",
       "      <th>Missed MW - Min Op Cost</th>\n",
       "      <th>Missed MW - Discharge Tank</th>\n",
       "      <th>Missed MW - Discharge Batt</th>\n",
       "      <th>Missed MW - DTree</th>\n",
       "    </tr>\n",
       "    <tr>\n",
       "      <th>Design</th>\n",
       "      <th></th>\n",
       "      <th></th>\n",
       "      <th></th>\n",
       "      <th></th>\n",
       "      <th></th>\n",
       "      <th></th>\n",
       "      <th></th>\n",
       "      <th></th>\n",
       "      <th></th>\n",
       "      <th></th>\n",
       "      <th></th>\n",
       "      <th></th>\n",
       "      <th></th>\n",
       "    </tr>\n",
       "  </thead>\n",
       "  <tbody>\n",
       "    <tr>\n",
       "      <th>No Constraint</th>\n",
       "      <td>953.841620</td>\n",
       "      <td>94.348335</td>\n",
       "      <td>834.609213</td>\n",
       "      <td>3.782220</td>\n",
       "      <td>45.984236</td>\n",
       "      <td>282.692485</td>\n",
       "      <td>5.877096e+08</td>\n",
       "      <td>-1.252251e+09</td>\n",
       "      <td>0.0</td>\n",
       "      <td>38328.0</td>\n",
       "      <td>2572.54</td>\n",
       "      <td>851.94</td>\n",
       "      <td>1083.95</td>\n",
       "    </tr>\n",
       "    <tr>\n",
       "      <th>Charge Curtailed</th>\n",
       "      <td>953.842213</td>\n",
       "      <td>103.096927</td>\n",
       "      <td>895.265167</td>\n",
       "      <td>3.467294</td>\n",
       "      <td>52.360659</td>\n",
       "      <td>301.099659</td>\n",
       "      <td>6.320095e+08</td>\n",
       "      <td>-1.499486e+09</td>\n",
       "      <td>0.0</td>\n",
       "      <td>0.0</td>\n",
       "      <td>2496.70</td>\n",
       "      <td>635.70</td>\n",
       "      <td>684.05</td>\n",
       "    </tr>\n",
       "    <tr>\n",
       "      <th>Min SOCs</th>\n",
       "      <td>953.842213</td>\n",
       "      <td>103.096927</td>\n",
       "      <td>959.280931</td>\n",
       "      <td>3.467294</td>\n",
       "      <td>52.360659</td>\n",
       "      <td>306.168548</td>\n",
       "      <td>6.579292e+08</td>\n",
       "      <td>-1.531415e+09</td>\n",
       "      <td>0.0</td>\n",
       "      <td>0.0</td>\n",
       "      <td>2435.88</td>\n",
       "      <td>624.42</td>\n",
       "      <td>181.73</td>\n",
       "    </tr>\n",
       "    <tr>\n",
       "      <th>MinSOCs Free</th>\n",
       "      <td>953.841620</td>\n",
       "      <td>94.348335</td>\n",
       "      <td>898.624976</td>\n",
       "      <td>3.782220</td>\n",
       "      <td>45.984236</td>\n",
       "      <td>287.761374</td>\n",
       "      <td>6.136293e+08</td>\n",
       "      <td>-1.284180e+09</td>\n",
       "      <td>1.0</td>\n",
       "      <td>0.0</td>\n",
       "      <td>2492.80</td>\n",
       "      <td>845.65</td>\n",
       "      <td>1.00</td>\n",
       "    </tr>\n",
       "  </tbody>\n",
       "</table>\n",
       "</div>"
      ],
      "text/plain": [
       "                     Wind MW     Batt MW    Batt MWh    PEM MW    Turb MW  \\\n",
       "Design                                                                      \n",
       "No Constraint     953.841620   94.348335  834.609213  3.782220  45.984236   \n",
       "Charge Curtailed  953.842213  103.096927  895.265167  3.467294  52.360659   \n",
       "Min SOCs          953.842213  103.096927  959.280931  3.467294  52.360659   \n",
       "MinSOCs Free      953.841620   94.348335  898.624976  3.782220  45.984236   \n",
       "\n",
       "                    Tank Ton  Capital Cost           NPV  \\\n",
       "Design                                                     \n",
       "No Constraint     282.692485  5.877096e+08 -1.252251e+09   \n",
       "Charge Curtailed  301.099659  6.320095e+08 -1.499486e+09   \n",
       "Min SOCs          306.168548  6.579292e+08 -1.531415e+09   \n",
       "MinSOCs Free      287.761374  6.136293e+08 -1.284180e+09   \n",
       "\n",
       "                  Missed MW - Tank Target  Missed MW - Min Op Cost  \\\n",
       "Design                                                               \n",
       "No Constraint                         0.0                  38328.0   \n",
       "Charge Curtailed                      0.0                      0.0   \n",
       "Min SOCs                              0.0                      0.0   \n",
       "MinSOCs Free                          1.0                      0.0   \n",
       "\n",
       "                  Missed MW - Discharge Tank  Missed MW - Discharge Batt  \\\n",
       "Design                                                                     \n",
       "No Constraint                        2572.54                      851.94   \n",
       "Charge Curtailed                     2496.70                      635.70   \n",
       "Min SOCs                             2435.88                      624.42   \n",
       "MinSOCs Free                         2492.80                      845.65   \n",
       "\n",
       "                  Missed MW - DTree  \n",
       "Design                               \n",
       "No Constraint               1083.95  \n",
       "Charge Curtailed             684.05  \n",
       "Min SOCs                     181.73  \n",
       "MinSOCs Free                   1.00  "
      ]
     },
     "execution_count": 356,
     "metadata": {},
     "output_type": "execute_result"
    }
   ],
   "source": [
    "import glob\n",
    "\n",
    "columns = [\"Design\", \"Wind MW\", \"Batt MW\", \"Batt MWh\", \"PEM MW\", \"Turb MW\", \"Tank Ton\",\n",
    "    \"Capital Cost\", \"NPV\",\n",
    "    \"Missed MW - Tank Target\", \"Missed MW - Min Op Cost\", \"Missed MW - Discharge Tank\", \"Missed MW - Discharge Batt\", \n",
    "    \"Missed MW - DTree\"]\n",
    "design_vs_op_df = pd.DataFrame(columns=columns)\n",
    "\n",
    "designs = (\"freeop\", \"modop\", \"minsoc\", \"minsocfree\")\n",
    "design_labels = (\"No Constraint\", \"Charge Curtailed\", \"Min SOCs\", \"MinSOCs Free\")\n",
    "op_strats = (\"tank_target_1\", \"min_op_cost_24\", \"discharge_tank_1\", \"discharge_batt_1\", \"dtree_12_1\")\n",
    "\n",
    "for design, label in zip(designs, design_labels):\n",
    "    row = np.ones(len(columns) - 1)\n",
    "    with open(results_dir / f\"design_sizes_{design}.json\", 'r') as f:\n",
    "        des_res = json.load(f)\n",
    "        row[0] = des_res['wind_mw']\n",
    "        row[1] = des_res['batt_mw']\n",
    "        row[2] = des_res['batt_mwh']\n",
    "        row[3] = des_res['pem_mw']\n",
    "        row[4] = des_res['turb_mw']\n",
    "        row[5] = des_res['tank_tonH2']\n",
    "        row[6] = des_res['capital_cost']\n",
    "        row[7] = des_res['NPV']\n",
    "    for i, op in enumerate(op_strats):\n",
    "        try:\n",
    "            row[8+i] = pd.read_csv(results_dir / f\"{op}_{design}\" / \"tracker_detail.csv\")[\"Power Underdelivered [MW]\"].sum()\n",
    "        except:\n",
    "            print(f\"{op}_{design}\")\n",
    "    design_vs_op_df.loc[len(design_vs_op_df)] = [label] + row.tolist()\n",
    "\n",
    "design_vs_op_df.set_index(\"Design\", inplace=True)\n",
    "design_vs_op_df"
   ]
  },
  {
   "cell_type": "markdown",
   "metadata": {},
   "source": [
    "tank target is ok\n",
    "design opt is returning big batteries that aren't used in operation, which makes it easier for the operation models to succeed"
   ]
  },
  {
   "cell_type": "code",
   "execution_count": 375,
   "metadata": {},
   "outputs": [
    {
     "name": "stdout",
     "output_type": "stream",
     "text": [
      "3294.9100000000003\n"
     ]
    }
   ],
   "source": [
    "print(pd.read_csv(results_dir / \"dtree_1_minsocfree\" / \"tracker_detail.csv\")[\"Power Underdelivered [MW]\"].sum())\n"
   ]
  },
  {
   "cell_type": "code",
   "execution_count": 376,
   "metadata": {},
   "outputs": [
    {
     "name": "stdout",
     "output_type": "stream",
     "text": [
      "0.0\n",
      "2572.54\n",
      "851.9399999999999\n",
      "1083.95\n",
      "3487.06\n",
      "38328.0\n"
     ]
    }
   ],
   "source": [
    "print(pd.read_csv(results_dir / \"tank_target_1_freeop\" / \"tracker_detail.csv\")[\"Power Underdelivered [MW]\"].sum())\n",
    "print(pd.read_csv(results_dir / \"discharge_tank_1_freeop\" / \"tracker_detail.csv\")[\"Power Underdelivered [MW]\"].sum())\n",
    "print(pd.read_csv(results_dir / \"discharge_batt_1_freeop\" / \"tracker_detail.csv\")[\"Power Underdelivered [MW]\"].sum())\n",
    "print(pd.read_csv(results_dir / \"dtree_12_1_freeop\" / \"tracker_detail.csv\")[\"Power Underdelivered [MW]\"].sum())\n",
    "print(pd.read_csv(results_dir / \"dtree_1_freeop\" / \"tracker_detail.csv\")[\"Power Underdelivered [MW]\"].sum())\n",
    "print(pd.read_csv(results_dir / \"min_op_cost_24_freeop\" / \"tracker_detail.csv\")[\"Power Underdelivered [MW]\"].sum())"
   ]
  },
  {
   "cell_type": "code",
   "execution_count": 349,
   "metadata": {},
   "outputs": [
    {
     "name": "stdout",
     "output_type": "stream",
     "text": [
      "0.0\n",
      "2496.7\n",
      "635.6999999999999\n",
      "14745.67\n",
      "14745.67\n",
      "0.0\n"
     ]
    }
   ],
   "source": [
    "print(pd.read_csv(results_dir / \"tank_target_1_modop\" / \"tracker_detail.csv\")[\"Power Underdelivered [MW]\"].sum())\n",
    "print(pd.read_csv(results_dir / \"discharge_tank_1_modop\" / \"tracker_detail.csv\")[\"Power Underdelivered [MW]\"].sum())\n",
    "print(pd.read_csv(results_dir / \"discharge_batt_1_modop\" / \"tracker_detail.csv\")[\"Power Underdelivered [MW]\"].sum())\n",
    "print(pd.read_csv(results_dir / \"dtree_12_1_modop\" / \"tracker_detail.csv\")[\"Power Underdelivered [MW]\"].sum())\n",
    "print(pd.read_csv(results_dir / \"dtree_1_modop_2\" / \"tracker_detail.csv\")[\"Power Underdelivered [MW]\"].sum())\n",
    "print(pd.read_csv(results_dir / \"min_op_cost_24_modop\" / \"tracker_detail.csv\")[\"Power Underdelivered [MW]\"].sum())"
   ]
  },
  {
   "cell_type": "code",
   "execution_count": 325,
   "metadata": {},
   "outputs": [
    {
     "name": "stdout",
     "output_type": "stream",
     "text": [
      "2435.88\n",
      "624.42\n",
      "14745.42\n",
      "0.0\n"
     ]
    }
   ],
   "source": [
    "print(pd.read_csv(results_dir / \"tank_target_1_minsoc\" / \"tracker_detail.csv\")[\"Power Underdelivered [MW]\"].sum())\n",
    "print(pd.read_csv(results_dir / \"discharge_tank_1_minsoc\" / \"tracker_detail.csv\")[\"Power Underdelivered [MW]\"].sum())\n",
    "print(pd.read_csv(results_dir / \"discharge_batt_1_minsoc\" / \"tracker_detail.csv\")[\"Power Underdelivered [MW]\"].sum())\n",
    "print(pd.read_csv(results_dir / \"dtree_6_1_minsoc\" / \"tracker_detail.csv\")[\"Power Underdelivered [MW]\"].sum())\n",
    "print(pd.read_csv(results_dir / \"dtree_12_1_minsoc\" / \"tracker_detail.csv\")[\"Power Underdelivered [MW]\"].sum())\n",
    "# print(pd.read_csv(results_dir / \"min_op_cost_24_minsoc\" / \"tracker_detail.csv\")[\"Power Underdelivered [MW]\"].sum())"
   ]
  },
  {
   "cell_type": "code",
   "execution_count": 359,
   "metadata": {},
   "outputs": [],
   "source": [
    "year_results['Wind Excess [MW]'] = (year_results['Wind Max [MW]'] - year_results['Load [MW]']).clip(lower=0)\n",
    "year_results['Wind Shortage [MW]'] = (year_results['Load [MW]'] - year_results['Wind Max [MW]']).clip(lower=0)\n",
    "year_results['Previous State of Charge [MWh]'] = np.roll(year_results['State of Charge [MWh]'], 1)\n",
    "year_results['Previous Tank Holdup [kg]'] = np.roll(year_results['Tank Holdup [kg]'], 1)\n",
    "year_results['Ratio Battery Input to Nameplate [MW]'] = year_results['Wind Power to Battery [MW]'] / params['batt_mw']\n",
    "year_results['Ratio PEM Input to Nameplate [MW]'] = year_results['Wind Power to PEM [MW]'] / params['pem_mw']\n",
    "year_results['Ratio Battery Output to Nameplate [MW]'] = year_results['Battery Power Output [MW]'] / params['batt_mw']\n",
    "year_results['Ratio Turbine Output to Nameplate [MW]'] = year_results['Turbine Power Output [MW]'] / params['turb_mw']\n",
    "\n",
    "year_results['4-Hr Ahead Wind Excess [MW]'] = year_results['Wind Excess [MW]'][::-1].rolling(4, min_periods=0).sum()\n",
    "year_results['16-Hr Ahead Wind Excess [MW]'] = year_results['Wind Excess [MW]'][::-1].rolling(16, min_periods=0).sum()\n",
    "year_results['24-Hr Ahead Wind Excess [MW]'] = year_results['Wind Excess [MW]'][::-1].rolling(24, min_periods=0).sum()\n",
    "\n",
    "year_results['4-Hr Ahead Wind Shortage [MW]'] = year_results['Wind Shortage [MW]'][::-1].rolling(4, min_periods=0).sum()\n",
    "year_results['16-Hr Ahead Wind Shortage [MW]'] = year_results['Wind Shortage [MW]'][::-1].rolling(16, min_periods=0).sum()\n",
    "year_results['24-Hr Ahead Wind Shortage [MW]'] = year_results['Wind Shortage [MW]'][::-1].rolling(24, min_periods=0).sum()\n",
    "\n",
    "year_results.columns\n",
    "\n",
    "input_cols = ['Previous State of Charge [MWh]', 'Previous Tank Holdup [kg]',\n",
    "    'Wind Excess [MW]', 'Wind Shortage [MW]',  \n",
    "    '4-Hr Ahead Wind Excess [MW]', \n",
    "    '16-Hr Ahead Wind Excess [MW]', '24-Hr Ahead Wind Excess [MW]',\n",
    "    '4-Hr Ahead Wind Shortage [MW]', \n",
    "    '16-Hr Ahead Wind Shortage [MW]', '24-Hr Ahead Wind Shortage [MW]']\n",
    "output_cols = ['Ratio Battery Input to Nameplate [MW]',\n",
    "    'Ratio PEM Input to Nameplate [MW]',\n",
    "    'Ratio Battery Output to Nameplate [MW]',\n",
    "    'Ratio Turbine Output to Nameplate [MW]']"
   ]
  },
  {
   "cell_type": "code",
   "execution_count": 363,
   "metadata": {},
   "outputs": [
    {
     "data": {
      "text/plain": [
       "0.9397588945510613"
      ]
     },
     "metadata": {},
     "output_type": "display_data"
    },
    {
     "data": {
      "text/plain": [
       "0.8430258190077531"
      ]
     },
     "metadata": {},
     "output_type": "display_data"
    },
    {
     "data": {
      "text/plain": [
       "0.28301362485831827"
      ]
     },
     "metadata": {},
     "output_type": "display_data"
    },
    {
     "name": "stderr",
     "output_type": "stream",
     "text": [
      "dot: graph is too large for cairo-renderer bitmaps. Scaling by 0.21883 to fit\n"
     ]
    },
    {
     "data": {
      "text/plain": [
       "1159"
      ]
     },
     "execution_count": 363,
     "metadata": {},
     "output_type": "execute_result"
    }
   ],
   "source": [
    "X = year_results[input_cols].to_numpy()\n",
    "y = year_results[output_cols].to_numpy()\n",
    "\n",
    "regtree = DecisionTreeRegressor(random_state=1, max_depth=12)\n",
    "regfore = RandomForestRegressor(random_state=1, max_depth=10, n_estimators=2)\n",
    "reglin = LinearRegression()\n",
    "\n",
    "regtree.fit(X, y)\n",
    "regfore.fit(X, y)\n",
    "reglin.fit(X,y)\n",
    "\n",
    "display(regtree.score(X, y), regfore.score(X, y), reglin.score(X, y))\n",
    "\n",
    "graph = graphviz.Source(export_graphviz(regtree, filled=True), format='png')\n",
    "graph.render(\"decision_tree_graphivz\")\n",
    "\n",
    "regtree.get_n_leaves()"
   ]
  },
  {
   "cell_type": "code",
   "execution_count": 372,
   "metadata": {},
   "outputs": [
    {
     "data": {
      "text/plain": [
       "array([ 3.54829926e+02,  7.45543707e+03,  0.00000000e+00,  6.54965233e+01,\n",
       "       -1.13686838e-13,  7.05467645e+02,  1.13814125e+03,  3.04843589e+02,\n",
       "        3.04843589e+02,  3.04843589e+02])"
      ]
     },
     "execution_count": 372,
     "metadata": {},
     "output_type": "execute_result"
    }
   ],
   "source": [
    "X[5081]"
   ]
  },
  {
   "cell_type": "code",
   "execution_count": 371,
   "metadata": {},
   "outputs": [
    {
     "data": {
      "text/plain": [
       "array([[0.        , 0.01650806, 0.64025186, 0.00460534]])"
      ]
     },
     "execution_count": 371,
     "metadata": {},
     "output_type": "execute_result"
    }
   ],
   "source": [
    "regtree.predict([X[5081]])"
   ]
  },
  {
   "cell_type": "code",
   "execution_count": 364,
   "metadata": {},
   "outputs": [
    {
     "data": {
      "text/plain": [
       "array([ 0.        , -0.        ,  0.69433641,  0.        ])"
      ]
     },
     "execution_count": 364,
     "metadata": {},
     "output_type": "execute_result"
    }
   ],
   "source": [
    "y[5081]"
   ]
  },
  {
   "cell_type": "code",
   "execution_count": 361,
   "metadata": {},
   "outputs": [
    {
     "data": {
      "text/plain": [
       "Total Wind Generation [MW]                3.103477e+00\n",
       "Total Power Output [MW]                   6.860000e+01\n",
       "Wind Power Output [MW]                    3.103477e+00\n",
       "Wind Power to Battery [MW]                0.000000e+00\n",
       "State of Charge [MWh]                     2.858862e+02\n",
       "Battery Power Output [MW]                 6.549652e+01\n",
       "Wind Power to PEM [MW]                   -0.000000e+00\n",
       "PEM H2 Output [kg]                        0.000000e+00\n",
       "Tank H2 Input [kg]                       -0.000000e+00\n",
       "H2 Sales [kg]                             0.000000e+00\n",
       "Turbine H2 Input [kg]\"                    0.000000e+00\n",
       "Tank Holdup [kg]                          7.455437e+03\n",
       "Turbine Power Output [MW]                 0.000000e+00\n",
       "Load [MW]                                 6.860000e+01\n",
       "Wind Max [MW]                             3.103477e+00\n",
       "Wind Excess [MW]                          0.000000e+00\n",
       "Wind Shortage [MW]                        6.549652e+01\n",
       "Previous State of Charge [MWh]            3.548299e+02\n",
       "Previous Tank Holdup [kg]                 7.455437e+03\n",
       "Ratio Battery Input to Nameplate [MW]     0.000000e+00\n",
       "Ratio PEM Input to Nameplate [MW]        -0.000000e+00\n",
       "Ratio Battery Output to Nameplate [MW]    6.943364e-01\n",
       "Ratio Turbine Output to Nameplate [MW]    0.000000e+00\n",
       "4-Hr Ahead Wind Excess [MW]              -1.136868e-13\n",
       "16-Hr Ahead Wind Excess [MW]              7.054676e+02\n",
       "24-Hr Ahead Wind Excess [MW]              1.138141e+03\n",
       "4-Hr Ahead Wind Shortage [MW]             3.048436e+02\n",
       "16-Hr Ahead Wind Shortage [MW]            3.048436e+02\n",
       "24-Hr Ahead Wind Shortage [MW]            3.048436e+02\n",
       "Name: 5081, dtype: float64"
      ]
     },
     "execution_count": 361,
     "metadata": {},
     "output_type": "execute_result"
    }
   ],
   "source": [
    "year_results.iloc[5081]"
   ]
  },
  {
   "cell_type": "code",
   "execution_count": 342,
   "metadata": {},
   "outputs": [
    {
     "data": {
      "text/plain": [
       "[('Wind Excess [MW]', 0.8865079365507356),\n",
       " ('Previous Tank Holdup [kg]', 0.03807004894184608),\n",
       " ('24-Hr Ahead Wind Shortage [MW]', 0.03703175652639796),\n",
       " ('Previous State of Charge [MWh]', 0.013153683286479156),\n",
       " ('16-Hr Ahead Wind Shortage [MW]', 0.006147667447481937),\n",
       " ('16-Hr Ahead Wind Excess [MW]', 0.005483917935614294),\n",
       " ('24-Hr Ahead Wind Excess [MW]', 0.005121149627659633),\n",
       " ('4-Hr Ahead Wind Excess [MW]', 0.0037377236011329313),\n",
       " ('Wind Shortage [MW]', 0.003560407700305197),\n",
       " ('4-Hr Ahead Wind Shortage [MW]', 0.0011857083823471135)]"
      ]
     },
     "execution_count": 342,
     "metadata": {},
     "output_type": "execute_result"
    }
   ],
   "source": [
    "sorted(list(zip(input_cols, regtree.feature_importances_)), key=lambda row: -row[1])"
   ]
  },
  {
   "cell_type": "code",
   "execution_count": 230,
   "metadata": {},
   "outputs": [
    {
     "data": {
      "text/plain": [
       "'random_forest_graphivz.png'"
      ]
     },
     "execution_count": 230,
     "metadata": {},
     "output_type": "execute_result"
    }
   ],
   "source": [
    "graph = graphviz.Source(export_graphviz(regfore.estimators_[0], filled=True), format='png')\n",
    "graph.render(\"random_forest_graphivz\")"
   ]
  },
  {
   "cell_type": "code",
   "execution_count": 116,
   "metadata": {},
   "outputs": [
    {
     "data": {
      "text/plain": [
       "Index(['Total Wind Generation [MW]', 'Total Power Output [MW]',\n",
       "       'Wind Power Output [MW]', 'Wind Power to Battery [MW]',\n",
       "       'State of Charge [MWh]', 'Battery Power Output [MW]',\n",
       "       'Wind Power to PEM [MW]', 'PEM H2 Output [kg]', 'Tank H2 Input [kg]',\n",
       "       'H2 Sales [kg]', 'Turbine H2 Input [kg]\"', 'Tank Holdup [kg]',\n",
       "       'Turbine Power Output [MW]', 'Load [MW]'],\n",
       "      dtype='object')"
      ]
     },
     "metadata": {},
     "output_type": "display_data"
    },
    {
     "data": {
      "text/plain": [
       "(63.9552885746464, 3.773)"
      ]
     },
     "execution_count": 116,
     "metadata": {},
     "output_type": "execute_result"
    }
   ],
   "source": [
    "# is battery or PEM receiving energy whenever there is less than enough wind?\n",
    "\n",
    "display(year_results.columns)\n",
    "not_enough_wind_mask = year_results['Wind Power Output [MW]'] < loads_mw\n",
    "df_not_enough_wind = year_results[not_enough_wind_mask]\n",
    "df_not_enough_wind['Wind Power to Battery [MW]'].max(), df_not_enough_wind['Wind Power to PEM [MW]'].max()"
   ]
  },
  {
   "cell_type": "code",
   "execution_count": 117,
   "metadata": {},
   "outputs": [
    {
     "name": "stdout",
     "output_type": "stream",
     "text": [
      "Time the PEM and Batt are both receiving energy when wind is not enough 0.0\n",
      "Time the PEM and Batt are both receiving energy when wind is not enough 0.0\n",
      "Wind is going to PEM while Battery is discharging 94.33\n",
      "Wind is going to Battery while Turbine is firing 63.9552885746464\n"
     ]
    }
   ],
   "source": [
    "print(\"Time the PEM and Batt are both receiving energy when wind is not enough\", \n",
    "    df_not_enough_wind[df_not_enough_wind['Wind Power to PEM [MW]'] > 0]['Wind Power to Battery [MW]'].max())\n",
    "print(\"Time the PEM and Batt are both receiving energy when wind is not enough\", \n",
    "    df_not_enough_wind[df_not_enough_wind['Wind Power to Battery [MW]'] > 0]['Wind Power to PEM [MW]'].max())\n",
    "\n",
    "print(\"Wind is going to PEM while Battery is discharging\", \n",
    "    df_not_enough_wind[df_not_enough_wind['Wind Power to PEM [MW]'] > 0]['Battery Power Output [MW]'].max())\n",
    "\n",
    "print(\"Wind is going to Battery while Turbine is firing\", \n",
    "    df_not_enough_wind[df_not_enough_wind['Turbine Power Output [MW]'] > 0]['Wind Power to Battery [MW]'].max())"
   ]
  },
  {
   "cell_type": "code",
   "execution_count": 113,
   "metadata": {},
   "outputs": [
    {
     "data": {
      "text/html": [
       "<div>\n",
       "<style scoped>\n",
       "    .dataframe tbody tr th:only-of-type {\n",
       "        vertical-align: middle;\n",
       "    }\n",
       "\n",
       "    .dataframe tbody tr th {\n",
       "        vertical-align: top;\n",
       "    }\n",
       "\n",
       "    .dataframe thead th {\n",
       "        text-align: right;\n",
       "    }\n",
       "</style>\n",
       "<table border=\"1\" class=\"dataframe\">\n",
       "  <thead>\n",
       "    <tr style=\"text-align: right;\">\n",
       "      <th></th>\n",
       "      <th>Total Wind Generation [MW]</th>\n",
       "      <th>Total Power Output [MW]</th>\n",
       "      <th>Wind Power Output [MW]</th>\n",
       "      <th>Wind Power to Battery [MW]</th>\n",
       "      <th>State of Charge [MWh]</th>\n",
       "      <th>Battery Power Output [MW]</th>\n",
       "      <th>Wind Power to PEM [MW]</th>\n",
       "      <th>PEM H2 Output [kg]</th>\n",
       "      <th>Tank H2 Input [kg]</th>\n",
       "      <th>H2 Sales [kg]</th>\n",
       "      <th>Turbine H2 Input [kg]\"</th>\n",
       "      <th>Tank Holdup [kg]</th>\n",
       "      <th>Turbine Power Output [MW]</th>\n",
       "      <th>Load [MW]</th>\n",
       "    </tr>\n",
       "  </thead>\n",
       "  <tbody>\n",
       "  </tbody>\n",
       "</table>\n",
       "</div>"
      ],
      "text/plain": [
       "Empty DataFrame\n",
       "Columns: [Total Wind Generation [MW], Total Power Output [MW], Wind Power Output [MW], Wind Power to Battery [MW], State of Charge [MWh], Battery Power Output [MW], Wind Power to PEM [MW], PEM H2 Output [kg], Tank H2 Input [kg], H2 Sales [kg], Turbine H2 Input [kg]\", Tank Holdup [kg], Turbine Power Output [MW], Load [MW]]\n",
       "Index: []"
      ]
     },
     "execution_count": 113,
     "metadata": {},
     "output_type": "execute_result"
    }
   ],
   "source": [
    "# turbine is discharging while wind is charging battery\n",
    "df_not_enough_wind[df_not_enough_wind['Wind Power to Battery [MW]'] > 0]"
   ]
  },
  {
   "cell_type": "code",
   "execution_count": 47,
   "metadata": {},
   "outputs": [
    {
     "data": {
      "text/html": [
       "<div>\n",
       "<style scoped>\n",
       "    .dataframe tbody tr th:only-of-type {\n",
       "        vertical-align: middle;\n",
       "    }\n",
       "\n",
       "    .dataframe tbody tr th {\n",
       "        vertical-align: top;\n",
       "    }\n",
       "\n",
       "    .dataframe thead th {\n",
       "        text-align: right;\n",
       "    }\n",
       "</style>\n",
       "<table border=\"1\" class=\"dataframe\">\n",
       "  <thead>\n",
       "    <tr style=\"text-align: right;\">\n",
       "      <th></th>\n",
       "      <th>Total Wind Generation [MW]</th>\n",
       "      <th>Total Power Output [MW]</th>\n",
       "      <th>Wind Power Output [MW]</th>\n",
       "      <th>Wind Power to Battery [MW]</th>\n",
       "      <th>State of Charge [MWh]</th>\n",
       "      <th>Battery Power Output [MW]</th>\n",
       "      <th>Wind Power to PEM [MW]</th>\n",
       "      <th>PEM H2 Output [kg]</th>\n",
       "      <th>Tank H2 Input [kg]</th>\n",
       "      <th>H2 Sales [kg]</th>\n",
       "      <th>Turbine H2 Input [kg]\"</th>\n",
       "      <th>Tank Holdup [kg]</th>\n",
       "      <th>Turbine Power Output [MW]</th>\n",
       "      <th>Load [MW]</th>\n",
       "    </tr>\n",
       "  </thead>\n",
       "  <tbody>\n",
       "    <tr>\n",
       "      <th>15</th>\n",
       "      <td>4.143000</td>\n",
       "      <td>94.7</td>\n",
       "      <td>0.370000</td>\n",
       "      <td>0.0</td>\n",
       "      <td>502.757895</td>\n",
       "      <td>94.330000</td>\n",
       "      <td>3.773</td>\n",
       "      <td>68.6585</td>\n",
       "      <td>68.6585</td>\n",
       "      <td>0.0</td>\n",
       "      <td>0.0</td>\n",
       "      <td>92139.707582</td>\n",
       "      <td>0.0</td>\n",
       "      <td>94.7</td>\n",
       "    </tr>\n",
       "    <tr>\n",
       "      <th>16</th>\n",
       "      <td>59.943000</td>\n",
       "      <td>150.5</td>\n",
       "      <td>56.170000</td>\n",
       "      <td>0.0</td>\n",
       "      <td>403.463158</td>\n",
       "      <td>94.330000</td>\n",
       "      <td>3.773</td>\n",
       "      <td>68.6585</td>\n",
       "      <td>68.6585</td>\n",
       "      <td>0.0</td>\n",
       "      <td>0.0</td>\n",
       "      <td>92208.366082</td>\n",
       "      <td>0.0</td>\n",
       "      <td>150.5</td>\n",
       "    </tr>\n",
       "    <tr>\n",
       "      <th>17</th>\n",
       "      <td>24.643000</td>\n",
       "      <td>115.2</td>\n",
       "      <td>20.870000</td>\n",
       "      <td>0.0</td>\n",
       "      <td>304.168421</td>\n",
       "      <td>94.330000</td>\n",
       "      <td>3.773</td>\n",
       "      <td>68.6585</td>\n",
       "      <td>68.6585</td>\n",
       "      <td>0.0</td>\n",
       "      <td>0.0</td>\n",
       "      <td>92277.024583</td>\n",
       "      <td>0.0</td>\n",
       "      <td>115.2</td>\n",
       "    </tr>\n",
       "    <tr>\n",
       "      <th>18</th>\n",
       "      <td>19.043000</td>\n",
       "      <td>109.6</td>\n",
       "      <td>15.270000</td>\n",
       "      <td>0.0</td>\n",
       "      <td>204.873684</td>\n",
       "      <td>94.330000</td>\n",
       "      <td>3.773</td>\n",
       "      <td>68.6585</td>\n",
       "      <td>68.6585</td>\n",
       "      <td>0.0</td>\n",
       "      <td>0.0</td>\n",
       "      <td>92345.683083</td>\n",
       "      <td>0.0</td>\n",
       "      <td>109.6</td>\n",
       "    </tr>\n",
       "    <tr>\n",
       "      <th>27</th>\n",
       "      <td>85.643000</td>\n",
       "      <td>176.2</td>\n",
       "      <td>81.870000</td>\n",
       "      <td>0.0</td>\n",
       "      <td>105.578947</td>\n",
       "      <td>94.330000</td>\n",
       "      <td>3.773</td>\n",
       "      <td>68.6585</td>\n",
       "      <td>68.6585</td>\n",
       "      <td>0.0</td>\n",
       "      <td>0.0</td>\n",
       "      <td>92963.609587</td>\n",
       "      <td>0.0</td>\n",
       "      <td>176.2</td>\n",
       "    </tr>\n",
       "    <tr>\n",
       "      <th>...</th>\n",
       "      <td>...</td>\n",
       "      <td>...</td>\n",
       "      <td>...</td>\n",
       "      <td>...</td>\n",
       "      <td>...</td>\n",
       "      <td>...</td>\n",
       "      <td>...</td>\n",
       "      <td>...</td>\n",
       "      <td>...</td>\n",
       "      <td>...</td>\n",
       "      <td>...</td>\n",
       "      <td>...</td>\n",
       "      <td>...</td>\n",
       "      <td>...</td>\n",
       "    </tr>\n",
       "    <tr>\n",
       "      <th>8735</th>\n",
       "      <td>13.243000</td>\n",
       "      <td>103.8</td>\n",
       "      <td>9.470000</td>\n",
       "      <td>0.0</td>\n",
       "      <td>82.868870</td>\n",
       "      <td>94.330000</td>\n",
       "      <td>3.773</td>\n",
       "      <td>68.6585</td>\n",
       "      <td>68.6585</td>\n",
       "      <td>0.0</td>\n",
       "      <td>0.0</td>\n",
       "      <td>89050.075062</td>\n",
       "      <td>0.0</td>\n",
       "      <td>103.8</td>\n",
       "    </tr>\n",
       "    <tr>\n",
       "      <th>8737</th>\n",
       "      <td>107.572038</td>\n",
       "      <td>128.9</td>\n",
       "      <td>103.799038</td>\n",
       "      <td>0.0</td>\n",
       "      <td>99.294737</td>\n",
       "      <td>25.100962</td>\n",
       "      <td>3.773</td>\n",
       "      <td>68.6585</td>\n",
       "      <td>68.6585</td>\n",
       "      <td>0.0</td>\n",
       "      <td>0.0</td>\n",
       "      <td>89187.392063</td>\n",
       "      <td>0.0</td>\n",
       "      <td>128.9</td>\n",
       "    </tr>\n",
       "    <tr>\n",
       "      <th>8743</th>\n",
       "      <td>32.143000</td>\n",
       "      <td>122.7</td>\n",
       "      <td>28.370000</td>\n",
       "      <td>0.0</td>\n",
       "      <td>0.000000</td>\n",
       "      <td>94.330000</td>\n",
       "      <td>3.773</td>\n",
       "      <td>68.6585</td>\n",
       "      <td>68.6585</td>\n",
       "      <td>0.0</td>\n",
       "      <td>0.0</td>\n",
       "      <td>89599.343066</td>\n",
       "      <td>0.0</td>\n",
       "      <td>122.7</td>\n",
       "    </tr>\n",
       "    <tr>\n",
       "      <th>8763</th>\n",
       "      <td>99.643000</td>\n",
       "      <td>190.2</td>\n",
       "      <td>95.870000</td>\n",
       "      <td>0.0</td>\n",
       "      <td>617.613263</td>\n",
       "      <td>94.330000</td>\n",
       "      <td>3.773</td>\n",
       "      <td>68.6585</td>\n",
       "      <td>68.6585</td>\n",
       "      <td>0.0</td>\n",
       "      <td>0.0</td>\n",
       "      <td>90972.513075</td>\n",
       "      <td>0.0</td>\n",
       "      <td>190.2</td>\n",
       "    </tr>\n",
       "    <tr>\n",
       "      <th>8766</th>\n",
       "      <td>11.643000</td>\n",
       "      <td>102.2</td>\n",
       "      <td>7.870000</td>\n",
       "      <td>0.0</td>\n",
       "      <td>518.318526</td>\n",
       "      <td>94.330000</td>\n",
       "      <td>3.773</td>\n",
       "      <td>68.6585</td>\n",
       "      <td>68.6585</td>\n",
       "      <td>0.0</td>\n",
       "      <td>0.0</td>\n",
       "      <td>91178.488576</td>\n",
       "      <td>0.0</td>\n",
       "      <td>102.2</td>\n",
       "    </tr>\n",
       "  </tbody>\n",
       "</table>\n",
       "<p>287 rows × 14 columns</p>\n",
       "</div>"
      ],
      "text/plain": [
       "      Total Wind Generation [MW]  Total Power Output [MW]  \\\n",
       "15                      4.143000                     94.7   \n",
       "16                     59.943000                    150.5   \n",
       "17                     24.643000                    115.2   \n",
       "18                     19.043000                    109.6   \n",
       "27                     85.643000                    176.2   \n",
       "...                          ...                      ...   \n",
       "8735                   13.243000                    103.8   \n",
       "8737                  107.572038                    128.9   \n",
       "8743                   32.143000                    122.7   \n",
       "8763                   99.643000                    190.2   \n",
       "8766                   11.643000                    102.2   \n",
       "\n",
       "      Wind Power Output [MW]  Wind Power to Battery [MW]  \\\n",
       "15                  0.370000                         0.0   \n",
       "16                 56.170000                         0.0   \n",
       "17                 20.870000                         0.0   \n",
       "18                 15.270000                         0.0   \n",
       "27                 81.870000                         0.0   \n",
       "...                      ...                         ...   \n",
       "8735                9.470000                         0.0   \n",
       "8737              103.799038                         0.0   \n",
       "8743               28.370000                         0.0   \n",
       "8763               95.870000                         0.0   \n",
       "8766                7.870000                         0.0   \n",
       "\n",
       "      State of Charge [MWh]  Battery Power Output [MW]  \\\n",
       "15               502.757895                  94.330000   \n",
       "16               403.463158                  94.330000   \n",
       "17               304.168421                  94.330000   \n",
       "18               204.873684                  94.330000   \n",
       "27               105.578947                  94.330000   \n",
       "...                     ...                        ...   \n",
       "8735              82.868870                  94.330000   \n",
       "8737              99.294737                  25.100962   \n",
       "8743               0.000000                  94.330000   \n",
       "8763             617.613263                  94.330000   \n",
       "8766             518.318526                  94.330000   \n",
       "\n",
       "      Wind Power to PEM [MW]  PEM H2 Output [kg]  Tank H2 Input [kg]  \\\n",
       "15                     3.773             68.6585             68.6585   \n",
       "16                     3.773             68.6585             68.6585   \n",
       "17                     3.773             68.6585             68.6585   \n",
       "18                     3.773             68.6585             68.6585   \n",
       "27                     3.773             68.6585             68.6585   \n",
       "...                      ...                 ...                 ...   \n",
       "8735                   3.773             68.6585             68.6585   \n",
       "8737                   3.773             68.6585             68.6585   \n",
       "8743                   3.773             68.6585             68.6585   \n",
       "8763                   3.773             68.6585             68.6585   \n",
       "8766                   3.773             68.6585             68.6585   \n",
       "\n",
       "      H2 Sales [kg]  Turbine H2 Input [kg]\"  Tank Holdup [kg]  \\\n",
       "15              0.0                     0.0      92139.707582   \n",
       "16              0.0                     0.0      92208.366082   \n",
       "17              0.0                     0.0      92277.024583   \n",
       "18              0.0                     0.0      92345.683083   \n",
       "27              0.0                     0.0      92963.609587   \n",
       "...             ...                     ...               ...   \n",
       "8735            0.0                     0.0      89050.075062   \n",
       "8737            0.0                     0.0      89187.392063   \n",
       "8743            0.0                     0.0      89599.343066   \n",
       "8763            0.0                     0.0      90972.513075   \n",
       "8766            0.0                     0.0      91178.488576   \n",
       "\n",
       "      Turbine Power Output [MW]  Load [MW]  \n",
       "15                          0.0       94.7  \n",
       "16                          0.0      150.5  \n",
       "17                          0.0      115.2  \n",
       "18                          0.0      109.6  \n",
       "27                          0.0      176.2  \n",
       "...                         ...        ...  \n",
       "8735                        0.0      103.8  \n",
       "8737                        0.0      128.9  \n",
       "8743                        0.0      122.7  \n",
       "8763                        0.0      190.2  \n",
       "8766                        0.0      102.2  \n",
       "\n",
       "[287 rows x 14 columns]"
      ]
     },
     "execution_count": 47,
     "metadata": {},
     "output_type": "execute_result"
    }
   ],
   "source": [
    "# battery is dicharging while wind is making H2\n",
    "df_not_enough_wind[df_not_enough_wind['Wind Power to PEM [MW]'] > 0]"
   ]
  },
  {
   "cell_type": "code",
   "execution_count": 72,
   "metadata": {},
   "outputs": [
    {
     "data": {
      "text/html": [
       "<div>\n",
       "<style scoped>\n",
       "    .dataframe tbody tr th:only-of-type {\n",
       "        vertical-align: middle;\n",
       "    }\n",
       "\n",
       "    .dataframe tbody tr th {\n",
       "        vertical-align: top;\n",
       "    }\n",
       "\n",
       "    .dataframe thead th {\n",
       "        text-align: right;\n",
       "    }\n",
       "</style>\n",
       "<table border=\"1\" class=\"dataframe\">\n",
       "  <thead>\n",
       "    <tr style=\"text-align: right;\">\n",
       "      <th></th>\n",
       "      <th>Wind Power to PEM [MW]</th>\n",
       "      <th>Wind Power to Battery [MW]</th>\n",
       "    </tr>\n",
       "  </thead>\n",
       "  <tbody>\n",
       "    <tr>\n",
       "      <th>count</th>\n",
       "      <td>1269.000000</td>\n",
       "      <td>1.269000e+03</td>\n",
       "    </tr>\n",
       "    <tr>\n",
       "      <th>mean</th>\n",
       "      <td>3.770033</td>\n",
       "      <td>7.377137e+01</td>\n",
       "    </tr>\n",
       "    <tr>\n",
       "      <th>std</th>\n",
       "      <td>0.105698</td>\n",
       "      <td>2.988384e+01</td>\n",
       "    </tr>\n",
       "    <tr>\n",
       "      <th>min</th>\n",
       "      <td>0.007721</td>\n",
       "      <td>1.364242e-15</td>\n",
       "    </tr>\n",
       "    <tr>\n",
       "      <th>25%</th>\n",
       "      <td>3.773000</td>\n",
       "      <td>5.279081e+01</td>\n",
       "    </tr>\n",
       "    <tr>\n",
       "      <th>50%</th>\n",
       "      <td>3.773000</td>\n",
       "      <td>9.433000e+01</td>\n",
       "    </tr>\n",
       "    <tr>\n",
       "      <th>75%</th>\n",
       "      <td>3.773000</td>\n",
       "      <td>9.433000e+01</td>\n",
       "    </tr>\n",
       "    <tr>\n",
       "      <th>max</th>\n",
       "      <td>3.773000</td>\n",
       "      <td>9.433000e+01</td>\n",
       "    </tr>\n",
       "  </tbody>\n",
       "</table>\n",
       "</div>"
      ],
      "text/plain": [
       "       Wind Power to PEM [MW]  Wind Power to Battery [MW]\n",
       "count             1269.000000                1.269000e+03\n",
       "mean                 3.770033                7.377137e+01\n",
       "std                  0.105698                2.988384e+01\n",
       "min                  0.007721                1.364242e-15\n",
       "25%                  3.773000                5.279081e+01\n",
       "50%                  3.773000                9.433000e+01\n",
       "75%                  3.773000                9.433000e+01\n",
       "max                  3.773000                9.433000e+01"
      ]
     },
     "execution_count": 72,
     "metadata": {},
     "output_type": "execute_result"
    }
   ],
   "source": [
    "# is battery or turbine making power whenever there is enough wind?\n",
    "\n",
    "enough_wind_mask = year_results['Wind Power Output [MW]'] >= loads_mw\n",
    "df_enough_wind = year_results[enough_wind_mask]\n",
    "df_enough_wind['Battery Power Output [MW]'].max(), df_enough_wind['Turbine Power Output [MW]'].max()\n",
    "\n",
    "# That's good! Then we need to know where the excess is going... \n",
    "# Charging simultaneously? Yes\n",
    "\n",
    "df_enough_wind[(df_enough_wind['Wind Power to Battery [MW]'] > 0) & (df_enough_wind['Wind Power to PEM [MW]'] > 0)][[\"Wind Power to PEM [MW]\", \"Wind Power to Battery [MW]\"]].describe()\n",
    "\n"
   ]
  },
  {
   "cell_type": "code",
   "execution_count": 74,
   "metadata": {},
   "outputs": [
    {
     "data": {
      "text/html": [
       "<div>\n",
       "<style scoped>\n",
       "    .dataframe tbody tr th:only-of-type {\n",
       "        vertical-align: middle;\n",
       "    }\n",
       "\n",
       "    .dataframe tbody tr th {\n",
       "        vertical-align: top;\n",
       "    }\n",
       "\n",
       "    .dataframe thead th {\n",
       "        text-align: right;\n",
       "    }\n",
       "</style>\n",
       "<table border=\"1\" class=\"dataframe\">\n",
       "  <thead>\n",
       "    <tr style=\"text-align: right;\">\n",
       "      <th></th>\n",
       "      <th>Wind Power to PEM [MW]</th>\n",
       "      <th>Wind Power to Battery [MW]</th>\n",
       "    </tr>\n",
       "  </thead>\n",
       "  <tbody>\n",
       "    <tr>\n",
       "      <th>count</th>\n",
       "      <td>1785.000000</td>\n",
       "      <td>1.785000e+03</td>\n",
       "    </tr>\n",
       "    <tr>\n",
       "      <th>mean</th>\n",
       "      <td>2.680208</td>\n",
       "      <td>5.558375e+01</td>\n",
       "    </tr>\n",
       "    <tr>\n",
       "      <th>std</th>\n",
       "      <td>1.711881</td>\n",
       "      <td>3.884620e+01</td>\n",
       "    </tr>\n",
       "    <tr>\n",
       "      <th>min</th>\n",
       "      <td>0.000000</td>\n",
       "      <td>1.364242e-15</td>\n",
       "    </tr>\n",
       "    <tr>\n",
       "      <th>25%</th>\n",
       "      <td>0.000000</td>\n",
       "      <td>1.371009e+01</td>\n",
       "    </tr>\n",
       "    <tr>\n",
       "      <th>50%</th>\n",
       "      <td>3.773000</td>\n",
       "      <td>6.521341e+01</td>\n",
       "    </tr>\n",
       "    <tr>\n",
       "      <th>75%</th>\n",
       "      <td>3.773000</td>\n",
       "      <td>9.433000e+01</td>\n",
       "    </tr>\n",
       "    <tr>\n",
       "      <th>max</th>\n",
       "      <td>3.773000</td>\n",
       "      <td>9.433000e+01</td>\n",
       "    </tr>\n",
       "  </tbody>\n",
       "</table>\n",
       "</div>"
      ],
      "text/plain": [
       "       Wind Power to PEM [MW]  Wind Power to Battery [MW]\n",
       "count             1785.000000                1.785000e+03\n",
       "mean                 2.680208                5.558375e+01\n",
       "std                  1.711881                3.884620e+01\n",
       "min                  0.000000                1.364242e-15\n",
       "25%                  0.000000                1.371009e+01\n",
       "50%                  3.773000                6.521341e+01\n",
       "75%                  3.773000                9.433000e+01\n",
       "max                  3.773000                9.433000e+01"
      ]
     },
     "execution_count": 74,
     "metadata": {},
     "output_type": "execute_result"
    }
   ],
   "source": [
    "df_enough_wind[(df_enough_wind['Wind Power to Battery [MW]'] > 0)][[\"Wind Power to PEM [MW]\", \"Wind Power to Battery [MW]\"]].describe()\n"
   ]
  },
  {
   "cell_type": "code",
   "execution_count": 75,
   "metadata": {},
   "outputs": [
    {
     "data": {
      "text/html": [
       "<div>\n",
       "<style scoped>\n",
       "    .dataframe tbody tr th:only-of-type {\n",
       "        vertical-align: middle;\n",
       "    }\n",
       "\n",
       "    .dataframe tbody tr th {\n",
       "        vertical-align: top;\n",
       "    }\n",
       "\n",
       "    .dataframe thead th {\n",
       "        text-align: right;\n",
       "    }\n",
       "</style>\n",
       "<table border=\"1\" class=\"dataframe\">\n",
       "  <thead>\n",
       "    <tr style=\"text-align: right;\">\n",
       "      <th></th>\n",
       "      <th>Wind Power to PEM [MW]</th>\n",
       "      <th>Wind Power to Battery [MW]</th>\n",
       "    </tr>\n",
       "  </thead>\n",
       "  <tbody>\n",
       "    <tr>\n",
       "      <th>count</th>\n",
       "      <td>4246.000000</td>\n",
       "      <td>4.246000e+03</td>\n",
       "    </tr>\n",
       "    <tr>\n",
       "      <th>mean</th>\n",
       "      <td>3.771954</td>\n",
       "      <td>2.204801e+01</td>\n",
       "    </tr>\n",
       "    <tr>\n",
       "      <th>std</th>\n",
       "      <td>0.058707</td>\n",
       "      <td>3.751562e+01</td>\n",
       "    </tr>\n",
       "    <tr>\n",
       "      <th>min</th>\n",
       "      <td>0.007721</td>\n",
       "      <td>-5.657057e-13</td>\n",
       "    </tr>\n",
       "    <tr>\n",
       "      <th>25%</th>\n",
       "      <td>3.773000</td>\n",
       "      <td>0.000000e+00</td>\n",
       "    </tr>\n",
       "    <tr>\n",
       "      <th>50%</th>\n",
       "      <td>3.773000</td>\n",
       "      <td>0.000000e+00</td>\n",
       "    </tr>\n",
       "    <tr>\n",
       "      <th>75%</th>\n",
       "      <td>3.773000</td>\n",
       "      <td>3.279208e+01</td>\n",
       "    </tr>\n",
       "    <tr>\n",
       "      <th>max</th>\n",
       "      <td>3.773000</td>\n",
       "      <td>9.433000e+01</td>\n",
       "    </tr>\n",
       "  </tbody>\n",
       "</table>\n",
       "</div>"
      ],
      "text/plain": [
       "       Wind Power to PEM [MW]  Wind Power to Battery [MW]\n",
       "count             4246.000000                4.246000e+03\n",
       "mean                 3.771954                2.204801e+01\n",
       "std                  0.058707                3.751562e+01\n",
       "min                  0.007721               -5.657057e-13\n",
       "25%                  3.773000                0.000000e+00\n",
       "50%                  3.773000                0.000000e+00\n",
       "75%                  3.773000                3.279208e+01\n",
       "max                  3.773000                9.433000e+01"
      ]
     },
     "execution_count": 75,
     "metadata": {},
     "output_type": "execute_result"
    }
   ],
   "source": [
    "df_enough_wind[(df_enough_wind['Wind Power to PEM [MW]'] > 0)][[\"Wind Power to PEM [MW]\", \"Wind Power to Battery [MW]\"]].describe()\n"
   ]
  },
  {
   "cell_type": "code",
   "execution_count": 200,
   "metadata": {},
   "outputs": [
    {
     "data": {
      "text/html": [
       "<div>\n",
       "<style scoped>\n",
       "    .dataframe tbody tr th:only-of-type {\n",
       "        vertical-align: middle;\n",
       "    }\n",
       "\n",
       "    .dataframe tbody tr th {\n",
       "        vertical-align: top;\n",
       "    }\n",
       "\n",
       "    .dataframe thead th {\n",
       "        text-align: right;\n",
       "    }\n",
       "</style>\n",
       "<table border=\"1\" class=\"dataframe\">\n",
       "  <thead>\n",
       "    <tr style=\"text-align: right;\">\n",
       "      <th></th>\n",
       "      <th>Total Wind Generation [MW]</th>\n",
       "      <th>Total Power Output [MW]</th>\n",
       "      <th>Wind Power Output [MW]</th>\n",
       "      <th>Wind Power to Battery [MW]</th>\n",
       "      <th>State of Charge [MWh]</th>\n",
       "      <th>Battery Power Output [MW]</th>\n",
       "      <th>Wind Power to PEM [MW]</th>\n",
       "      <th>PEM H2 Output [kg]</th>\n",
       "      <th>Tank H2 Input [kg]</th>\n",
       "      <th>H2 Sales [kg]</th>\n",
       "      <th>Turbine H2 Input [kg]\"</th>\n",
       "      <th>Tank Holdup [kg]</th>\n",
       "      <th>Turbine Power Output [MW]</th>\n",
       "      <th>Load [MW]</th>\n",
       "    </tr>\n",
       "  </thead>\n",
       "  <tbody>\n",
       "    <tr>\n",
       "      <th>13</th>\n",
       "      <td>0.000</td>\n",
       "      <td>53.2</td>\n",
       "      <td>0.00</td>\n",
       "      <td>0.0</td>\n",
       "      <td>651.631579</td>\n",
       "      <td>53.20</td>\n",
       "      <td>0.000</td>\n",
       "      <td>0.0000</td>\n",
       "      <td>0.0000</td>\n",
       "      <td>0.0</td>\n",
       "      <td>0.0</td>\n",
       "      <td>92071.049081</td>\n",
       "      <td>0.0</td>\n",
       "      <td>53.2</td>\n",
       "    </tr>\n",
       "    <tr>\n",
       "      <th>14</th>\n",
       "      <td>0.000</td>\n",
       "      <td>47.1</td>\n",
       "      <td>0.00</td>\n",
       "      <td>0.0</td>\n",
       "      <td>602.052632</td>\n",
       "      <td>47.10</td>\n",
       "      <td>0.000</td>\n",
       "      <td>0.0000</td>\n",
       "      <td>0.0000</td>\n",
       "      <td>0.0</td>\n",
       "      <td>0.0</td>\n",
       "      <td>92071.049081</td>\n",
       "      <td>0.0</td>\n",
       "      <td>47.1</td>\n",
       "    </tr>\n",
       "    <tr>\n",
       "      <th>15</th>\n",
       "      <td>4.143</td>\n",
       "      <td>94.7</td>\n",
       "      <td>0.37</td>\n",
       "      <td>0.0</td>\n",
       "      <td>502.757895</td>\n",
       "      <td>94.33</td>\n",
       "      <td>3.773</td>\n",
       "      <td>68.6585</td>\n",
       "      <td>68.6585</td>\n",
       "      <td>0.0</td>\n",
       "      <td>0.0</td>\n",
       "      <td>92139.707582</td>\n",
       "      <td>0.0</td>\n",
       "      <td>94.7</td>\n",
       "    </tr>\n",
       "    <tr>\n",
       "      <th>16</th>\n",
       "      <td>59.943</td>\n",
       "      <td>150.5</td>\n",
       "      <td>56.17</td>\n",
       "      <td>0.0</td>\n",
       "      <td>403.463158</td>\n",
       "      <td>94.33</td>\n",
       "      <td>3.773</td>\n",
       "      <td>68.6585</td>\n",
       "      <td>68.6585</td>\n",
       "      <td>0.0</td>\n",
       "      <td>0.0</td>\n",
       "      <td>92208.366082</td>\n",
       "      <td>0.0</td>\n",
       "      <td>150.5</td>\n",
       "    </tr>\n",
       "    <tr>\n",
       "      <th>17</th>\n",
       "      <td>24.643</td>\n",
       "      <td>115.2</td>\n",
       "      <td>20.87</td>\n",
       "      <td>0.0</td>\n",
       "      <td>304.168421</td>\n",
       "      <td>94.33</td>\n",
       "      <td>3.773</td>\n",
       "      <td>68.6585</td>\n",
       "      <td>68.6585</td>\n",
       "      <td>0.0</td>\n",
       "      <td>0.0</td>\n",
       "      <td>92277.024583</td>\n",
       "      <td>0.0</td>\n",
       "      <td>115.2</td>\n",
       "    </tr>\n",
       "    <tr>\n",
       "      <th>...</th>\n",
       "      <td>...</td>\n",
       "      <td>...</td>\n",
       "      <td>...</td>\n",
       "      <td>...</td>\n",
       "      <td>...</td>\n",
       "      <td>...</td>\n",
       "      <td>...</td>\n",
       "      <td>...</td>\n",
       "      <td>...</td>\n",
       "      <td>...</td>\n",
       "      <td>...</td>\n",
       "      <td>...</td>\n",
       "      <td>...</td>\n",
       "      <td>...</td>\n",
       "    </tr>\n",
       "    <tr>\n",
       "      <th>8779</th>\n",
       "      <td>0.000</td>\n",
       "      <td>8.2</td>\n",
       "      <td>0.00</td>\n",
       "      <td>0.0</td>\n",
       "      <td>202.318526</td>\n",
       "      <td>8.20</td>\n",
       "      <td>0.000</td>\n",
       "      <td>0.0000</td>\n",
       "      <td>0.0000</td>\n",
       "      <td>0.0</td>\n",
       "      <td>0.0</td>\n",
       "      <td>91178.488576</td>\n",
       "      <td>0.0</td>\n",
       "      <td>8.2</td>\n",
       "    </tr>\n",
       "    <tr>\n",
       "      <th>8780</th>\n",
       "      <td>0.000</td>\n",
       "      <td>6.8</td>\n",
       "      <td>0.00</td>\n",
       "      <td>0.0</td>\n",
       "      <td>195.160632</td>\n",
       "      <td>6.80</td>\n",
       "      <td>0.000</td>\n",
       "      <td>0.0000</td>\n",
       "      <td>0.0000</td>\n",
       "      <td>0.0</td>\n",
       "      <td>0.0</td>\n",
       "      <td>91178.488576</td>\n",
       "      <td>0.0</td>\n",
       "      <td>6.8</td>\n",
       "    </tr>\n",
       "    <tr>\n",
       "      <th>8781</th>\n",
       "      <td>0.000</td>\n",
       "      <td>4.8</td>\n",
       "      <td>0.00</td>\n",
       "      <td>0.0</td>\n",
       "      <td>190.108000</td>\n",
       "      <td>4.80</td>\n",
       "      <td>0.000</td>\n",
       "      <td>0.0000</td>\n",
       "      <td>0.0000</td>\n",
       "      <td>0.0</td>\n",
       "      <td>0.0</td>\n",
       "      <td>91178.488576</td>\n",
       "      <td>0.0</td>\n",
       "      <td>4.8</td>\n",
       "    </tr>\n",
       "    <tr>\n",
       "      <th>8782</th>\n",
       "      <td>0.000</td>\n",
       "      <td>7.9</td>\n",
       "      <td>0.00</td>\n",
       "      <td>0.0</td>\n",
       "      <td>181.792211</td>\n",
       "      <td>7.90</td>\n",
       "      <td>0.000</td>\n",
       "      <td>0.0000</td>\n",
       "      <td>0.0000</td>\n",
       "      <td>0.0</td>\n",
       "      <td>0.0</td>\n",
       "      <td>91178.488576</td>\n",
       "      <td>0.0</td>\n",
       "      <td>7.9</td>\n",
       "    </tr>\n",
       "    <tr>\n",
       "      <th>8783</th>\n",
       "      <td>0.000</td>\n",
       "      <td>10.8</td>\n",
       "      <td>0.00</td>\n",
       "      <td>0.0</td>\n",
       "      <td>170.423789</td>\n",
       "      <td>10.80</td>\n",
       "      <td>0.000</td>\n",
       "      <td>0.0000</td>\n",
       "      <td>0.0000</td>\n",
       "      <td>0.0</td>\n",
       "      <td>0.0</td>\n",
       "      <td>91178.488576</td>\n",
       "      <td>0.0</td>\n",
       "      <td>10.8</td>\n",
       "    </tr>\n",
       "  </tbody>\n",
       "</table>\n",
       "<p>3642 rows × 14 columns</p>\n",
       "</div>"
      ],
      "text/plain": [
       "      Total Wind Generation [MW]  Total Power Output [MW]  \\\n",
       "13                         0.000                     53.2   \n",
       "14                         0.000                     47.1   \n",
       "15                         4.143                     94.7   \n",
       "16                        59.943                    150.5   \n",
       "17                        24.643                    115.2   \n",
       "...                          ...                      ...   \n",
       "8779                       0.000                      8.2   \n",
       "8780                       0.000                      6.8   \n",
       "8781                       0.000                      4.8   \n",
       "8782                       0.000                      7.9   \n",
       "8783                       0.000                     10.8   \n",
       "\n",
       "      Wind Power Output [MW]  Wind Power to Battery [MW]  \\\n",
       "13                      0.00                         0.0   \n",
       "14                      0.00                         0.0   \n",
       "15                      0.37                         0.0   \n",
       "16                     56.17                         0.0   \n",
       "17                     20.87                         0.0   \n",
       "...                      ...                         ...   \n",
       "8779                    0.00                         0.0   \n",
       "8780                    0.00                         0.0   \n",
       "8781                    0.00                         0.0   \n",
       "8782                    0.00                         0.0   \n",
       "8783                    0.00                         0.0   \n",
       "\n",
       "      State of Charge [MWh]  Battery Power Output [MW]  \\\n",
       "13               651.631579                      53.20   \n",
       "14               602.052632                      47.10   \n",
       "15               502.757895                      94.33   \n",
       "16               403.463158                      94.33   \n",
       "17               304.168421                      94.33   \n",
       "...                     ...                        ...   \n",
       "8779             202.318526                       8.20   \n",
       "8780             195.160632                       6.80   \n",
       "8781             190.108000                       4.80   \n",
       "8782             181.792211                       7.90   \n",
       "8783             170.423789                      10.80   \n",
       "\n",
       "      Wind Power to PEM [MW]  PEM H2 Output [kg]  Tank H2 Input [kg]  \\\n",
       "13                     0.000              0.0000              0.0000   \n",
       "14                     0.000              0.0000              0.0000   \n",
       "15                     3.773             68.6585             68.6585   \n",
       "16                     3.773             68.6585             68.6585   \n",
       "17                     3.773             68.6585             68.6585   \n",
       "...                      ...                 ...                 ...   \n",
       "8779                   0.000              0.0000              0.0000   \n",
       "8780                   0.000              0.0000              0.0000   \n",
       "8781                   0.000              0.0000              0.0000   \n",
       "8782                   0.000              0.0000              0.0000   \n",
       "8783                   0.000              0.0000              0.0000   \n",
       "\n",
       "      H2 Sales [kg]  Turbine H2 Input [kg]\"  Tank Holdup [kg]  \\\n",
       "13              0.0                     0.0      92071.049081   \n",
       "14              0.0                     0.0      92071.049081   \n",
       "15              0.0                     0.0      92139.707582   \n",
       "16              0.0                     0.0      92208.366082   \n",
       "17              0.0                     0.0      92277.024583   \n",
       "...             ...                     ...               ...   \n",
       "8779            0.0                     0.0      91178.488576   \n",
       "8780            0.0                     0.0      91178.488576   \n",
       "8781            0.0                     0.0      91178.488576   \n",
       "8782            0.0                     0.0      91178.488576   \n",
       "8783            0.0                     0.0      91178.488576   \n",
       "\n",
       "      Turbine Power Output [MW]  Load [MW]  \n",
       "13                          0.0       53.2  \n",
       "14                          0.0       47.1  \n",
       "15                          0.0       94.7  \n",
       "16                          0.0      150.5  \n",
       "17                          0.0      115.2  \n",
       "...                         ...        ...  \n",
       "8779                        0.0        8.2  \n",
       "8780                        0.0        6.8  \n",
       "8781                        0.0        4.8  \n",
       "8782                        0.0        7.9  \n",
       "8783                        0.0       10.8  \n",
       "\n",
       "[3642 rows x 14 columns]"
      ]
     },
     "execution_count": 200,
     "metadata": {},
     "output_type": "execute_result"
    }
   ],
   "source": [
    "df_not_enough_wind[(df_not_enough_wind['Battery Power Output [MW]'] > 0)]"
   ]
  },
  {
   "cell_type": "markdown",
   "metadata": {},
   "source": [
    "## Surrogate Model"
   ]
  },
  {
   "cell_type": "code",
   "execution_count": 75,
   "metadata": {},
   "outputs": [],
   "source": [
    "import os\n",
    "import pandas as pd\n",
    "import numpy as np\n",
    "from pathlib import Path\n",
    "from pyvis.network import Network\n",
    "from functools import reduce\n",
    "\n",
    "from dispatches_sample_data import rts_gmlc\n",
    "from dispatches.case_studies.renewables_case.double_loop_utils import *\n",
    "\n",
    "import matplotlib.pyplot as plt\n",
    "import seaborn as sns\n",
    "sns.set_style(\"whitegrid\")\n",
    "sns.set_palette(\"deep\")\n",
    "\n",
    "SMALL_SIZE = 12\n",
    "MEDIUM_SIZE = 14\n",
    "BIGGER_SIZE = 16\n",
    "\n",
    "plt.rc('font', size=SMALL_SIZE)          # controls default text sizes\n",
    "plt.rc('axes', titlesize=SMALL_SIZE)     # fontsize of the axes title\n",
    "plt.rc('axes', labelsize=MEDIUM_SIZE)    # fontsize of the x and y labels\n",
    "plt.rc('xtick', labelsize=SMALL_SIZE)    # fontsize of the tick labels\n",
    "plt.rc('ytick', labelsize=SMALL_SIZE)    # fontsize of the tick labels\n",
    "plt.rc('legend', fontsize=SMALL_SIZE)    # legend fontsize\n",
    "plt.rc('figure', titlesize=BIGGER_SIZE)  # fontsize of the figure title\n",
    "\n",
    "pd.set_option('display.max_columns', None)\n",
    "\n",
    "if os.environ.get(\"NREL_CLUSTER\"):\n",
    "    workspace_dir = Path(\"/projects/gmihybridsys/dguittet/workspace\")\n",
    "    dispatches_dir = Path(\"/projects/gmihybridsys/dguittet/dispatches/dispatches/case_studies/renewables_h2_case\")\n",
    "else:\n",
    "    workspace_dir = Path(\"/Users/dguittet/Projects/Dispatches/workspace\")\n",
    "    dispatches_dir = Path(\"/Users/dguittet/Projects/Dispatches/dispatches/dispatches/case_studies/renewables_h2_case\")\n",
    "\n",
    "rts_gmlc_dir = workspace_dir / \"prescient_runs/simulate_with_network_with_uncertainty_w_15_reserves_500_shortfall_eagle\""
   ]
  },
  {
   "cell_type": "code",
   "execution_count": 266,
   "metadata": {},
   "outputs": [],
   "source": [
    "rts_gmlc_graph, line_df, branch_df, gen_df, summary = get_rtsgmlc_network(rts_gmlc_dir, rts_gmlc.source_data_path)\n",
    "bus_dict = get_rtsgmlc_bus_dict(rts_gmlc.source_data_path)\n",
    "bid_df = pd.read_csv(rts_gmlc.source_data_path / \"gen.csv\")\n",
    "bid_df = bid_df[bid_df['Fuel'] == \"NG\"]\n",
    "ng_gens = bid_df['GEN UID'].unique()\n",
    "bid_df = bid_df.rename(columns={\"GEN UID\": \"Generator\"})\n"
   ]
  },
  {
   "cell_type": "code",
   "execution_count": 222,
   "metadata": {},
   "outputs": [
    {
     "data": {
      "text/plain": [
       "<seaborn.axisgrid.FacetGrid at 0x7faaad12f5e0>"
      ]
     },
     "execution_count": 222,
     "metadata": {},
     "output_type": "execute_result"
    },
    {
     "data": {
      "image/png": "[encoded data removed]",
      "text/plain": [
       "<Figure size 720x360 with 2 Axes>"
      ]
     },
     "metadata": {},
     "output_type": "display_data"
    }
   ],
   "source": [
    "gen_df['CF'] = 0\n",
    "for gen in ng_gens:\n",
    "    gen_df.loc[gen_df['Generator'] == gen, \"CF\"] = gen_df.loc[gen_df['Generator'] == gen, \"Dispatch\"] / bid_df[bid_df['Generator'] ==  gen][\"PMax MW\"].unique()[0] / 8760\n",
    "\n",
    "ng_df = gen_df.groupby(\"Generator\").resample(\"1M\").sum().groupby('Generator').cumsum().reset_index()\n",
    "ng_df[\"Type\"] = \"CC\"\n",
    "ng_df.loc[ng_df['Generator'].str.contains(\"CC\"), \"Type\"] = \"CT\"\n",
    "\n",
    "sns.relplot(\n",
    "    data=ng_df, y=\"CF\", x=\"Datetime\", hue=\"Generator\", style='Type',\n",
    "    col=\"Type\", kind=\"line\", legend=False\n",
    ")\n"
   ]
  },
  {
   "cell_type": "code",
   "execution_count": 317,
   "metadata": {},
   "outputs": [
    {
     "name": "stderr",
     "output_type": "stream",
     "text": [
      "/Users/dguittet/miniconda3/envs/dispatches/lib/python3.8/site-packages/scipy/optimize/minpack.py:833: OptimizeWarning: Covariance of the parameters could not be estimated\n",
      "  warnings.warn('Covariance of the parameters could not be estimated',\n"
     ]
    },
    {
     "data": {
      "text/plain": [
       "array([0.28211561, 6.21738585, 0.49592997, 1.        , 1.        ])"
      ]
     },
     "metadata": {},
     "output_type": "display_data"
    },
    {
     "data": {
      "text/plain": [
       "array([2.52798232e-03, 3.74844635e+01, 4.93909544e-01, 1.00000000e+00,\n",
       "       1.00000000e+00])"
      ]
     },
     "metadata": {},
     "output_type": "display_data"
    },
    {
     "data": {
      "text/plain": [
       "array([3.54594927e-03, 4.91317076e+01, 4.90664753e-01, 1.00000000e+00,\n",
       "       1.00000000e+00])"
      ]
     },
     "metadata": {},
     "output_type": "display_data"
    },
    {
     "data": {
      "text/plain": [
       "array([3.49343681e-03, 3.31632248e+01, 4.96953586e-01, 1.00000000e+00,\n",
       "       1.00000000e+00])"
      ]
     },
     "metadata": {},
     "output_type": "display_data"
    },
    {
     "data": {
      "text/plain": [
       "array([3.14072319e-03, 5.22054281e+01, 4.91635226e-01, 1.00000000e+00,\n",
       "       1.00000000e+00])"
      ]
     },
     "metadata": {},
     "output_type": "display_data"
    },
    {
     "data": {
      "text/plain": [
       "array([0.28755581, 6.48135503, 0.49092726, 1.        , 1.        ])"
      ]
     },
     "metadata": {},
     "output_type": "display_data"
    },
    {
     "data": {
      "text/plain": [
       "array([1.13826109e-02, 2.69892678e+01, 4.94567113e-01, 1.00000000e+00,\n",
       "       1.00000000e+00])"
      ]
     },
     "metadata": {},
     "output_type": "display_data"
    },
    {
     "data": {
      "text/plain": [
       "array([1.16347692e-02, 2.86542500e+01, 4.93535113e-01, 1.00000000e+00,\n",
       "       1.00000000e+00])"
      ]
     },
     "metadata": {},
     "output_type": "display_data"
    },
    {
     "data": {
      "text/plain": [
       "array([1.14261489e-02, 2.72371619e+01, 4.97451533e-01, 1.00000000e+00,\n",
       "       1.00000000e+00])"
      ]
     },
     "metadata": {},
     "output_type": "display_data"
    },
    {
     "data": {
      "text/plain": [
       "array([6.31906111e-03, 2.87751385e+01, 5.02736886e-01, 1.00000000e+00,\n",
       "       1.00000000e+00])"
      ]
     },
     "metadata": {},
     "output_type": "display_data"
    },
    {
     "data": {
      "text/plain": [
       "array([5.80265170e-03, 3.10119334e+01, 5.00596970e-01, 1.00000000e+00,\n",
       "       1.00000000e+00])"
      ]
     },
     "metadata": {},
     "output_type": "display_data"
    },
    {
     "data": {
      "text/plain": [
       "array([ 0.07907562, 16.71253441,  0.49558116,  1.        ,  1.        ])"
      ]
     },
     "metadata": {},
     "output_type": "display_data"
    },
    {
     "data": {
      "text/plain": [
       "array([3.85080449e-03, 3.05018275e+01, 4.99275485e-01, 1.00000000e+00,\n",
       "       1.00000000e+00])"
      ]
     },
     "metadata": {},
     "output_type": "display_data"
    },
    {
     "data": {
      "text/plain": [
       "array([4.06852577e-03, 2.36501444e+01, 4.96438562e-01, 1.00000000e+00,\n",
       "       1.00000000e+00])"
      ]
     },
     "metadata": {},
     "output_type": "display_data"
    },
    {
     "data": {
      "text/plain": [
       "array([ 4.90867582e-04, -1.30123289e+01,  7.06172863e+00,  1.00000000e+00,\n",
       "        1.00000000e+00])"
      ]
     },
     "metadata": {},
     "output_type": "display_data"
    },
    {
     "data": {
      "text/plain": [
       "array([ 0.04604723, 24.10619845,  0.51016609,  1.        ,  1.        ])"
      ]
     },
     "metadata": {},
     "output_type": "display_data"
    },
    {
     "data": {
      "text/plain": [
       "array([0.40809107, 5.20136233, 0.48634544, 1.        , 1.        ])"
      ]
     },
     "metadata": {},
     "output_type": "display_data"
    },
    {
     "data": {
      "text/plain": [
       "array([1.82648402e-04, 5.96819861e+02, 4.58420741e-01, 1.00000000e+00,\n",
       "       1.00000000e+00])"
      ]
     },
     "metadata": {},
     "output_type": "display_data"
    },
    {
     "data": {
      "text/plain": [
       "array([1.36986301e-04, 5.94233921e+02, 4.58762418e-01, 1.00000000e+00,\n",
       "       1.00000000e+00])"
      ]
     },
     "metadata": {},
     "output_type": "display_data"
    },
    {
     "data": {
      "text/plain": [
       "array([9.26885331e-39, 9.99999955e-01, 1.00000015e+00, 1.00000000e+00,\n",
       "       1.00000000e+00])"
      ]
     },
     "metadata": {},
     "output_type": "display_data"
    },
    {
     "data": {
      "text/plain": [
       "array([4.81769916e-03, 2.43275452e+01, 5.15197896e-01, 1.00000000e+00,\n",
       "       1.00000000e+00])"
      ]
     },
     "metadata": {},
     "output_type": "display_data"
    },
    {
     "data": {
      "text/plain": [
       "array([4.13748323e-03, 4.09020349e+01, 4.94997479e-01, 1.00000000e+00,\n",
       "       1.00000000e+00])"
      ]
     },
     "metadata": {},
     "output_type": "display_data"
    },
    {
     "data": {
      "text/plain": [
       "array([0.01704214, 2.23104252, 0.95799857, 1.        , 1.        ])"
      ]
     },
     "metadata": {},
     "output_type": "display_data"
    },
    {
     "data": {
      "text/plain": [
       "array([0.02078377, 2.05486165, 0.68128638, 1.        , 1.        ])"
      ]
     },
     "metadata": {},
     "output_type": "display_data"
    },
    {
     "data": {
      "text/plain": [
       "array([0.37764093, 5.47974749, 0.49001569, 1.        , 1.        ])"
      ]
     },
     "metadata": {},
     "output_type": "display_data"
    },
    {
     "data": {
      "text/plain": [
       "array([0.08611018, 4.98532297, 0.49606261, 1.        , 1.        ])"
      ]
     },
     "metadata": {},
     "output_type": "display_data"
    },
    {
     "data": {
      "text/plain": [
       "array([0.09124916, 3.85247074, 0.48599313, 1.        , 1.        ])"
      ]
     },
     "metadata": {},
     "output_type": "display_data"
    },
    {
     "data": {
      "text/plain": [
       "array([0.07962316, 4.81586363, 0.46281345, 1.        , 1.        ])"
      ]
     },
     "metadata": {},
     "output_type": "display_data"
    },
    {
     "data": {
      "text/plain": [
       "array([ 0.05196016, 20.03200941,  0.49675006,  1.        ,  1.        ])"
      ]
     },
     "metadata": {},
     "output_type": "display_data"
    },
    {
     "data": {
      "text/plain": [
       "array([0.34069221, 5.67723994, 0.49523557, 1.        , 1.        ])"
      ]
     },
     "metadata": {},
     "output_type": "display_data"
    },
    {
     "data": {
      "text/plain": [
       "array([1.86502993e-02, 2.34280430e+01, 4.90887464e-01, 1.00000000e+00,\n",
       "       1.00000000e+00])"
      ]
     },
     "metadata": {},
     "output_type": "display_data"
    },
    {
     "data": {
      "text/plain": [
       "array([ 0.019571  , 19.19363812,  0.48741692,  1.        ,  1.        ])"
      ]
     },
     "metadata": {},
     "output_type": "display_data"
    },
    {
     "data": {
      "text/plain": [
       "array([0.2061793 , 6.36040576, 0.49085956, 1.        , 1.        ])"
      ]
     },
     "metadata": {},
     "output_type": "display_data"
    },
    {
     "data": {
      "text/plain": [
       "array([0.18113286, 7.13283377, 0.47357335, 1.        , 1.        ])"
      ]
     },
     "metadata": {},
     "output_type": "display_data"
    }
   ],
   "source": [
    "from scipy.optimize import curve_fit, least_squares\n",
    "\n",
    "def func(month, L, k, x_0, a, b):\n",
    "    return L / (1 + np.exp(-k * (month - x_0))) + (a * month + b) * 0\n",
    "\n",
    "X = []\n",
    "y = []\n",
    "bid_df[\"L\"] = np.nan\n",
    "bid_df[\"L_abs\"] = np.nan\n",
    "bid_df[\"k\"] = np.nan\n",
    "bid_df['x_0'] = np.nan\n",
    "\n",
    "xdata = np.array(range(0, 12)) / 12\n",
    "for gen in ng_gens:\n",
    "    # fig = plt.figure()\n",
    "    ydata = ng_df[ng_df['Generator'] == gen]['CF'].values\n",
    "    pmax = bid_df[bid_df['Generator'] == gen]['PMax MW'].values[0]\n",
    "    try:\n",
    "        popt, pcov = curve_fit(func, xdata, ydata)\n",
    "    except:\n",
    "        # plt.plot(xdata, ydata, 'b-', label='data, no fit')\n",
    "        continue\n",
    "    display(popt)\n",
    "    # plt.plot(xdata, ydata * 8760 * pmax, 'b-', label='data')\n",
    "    # plt.plot(xdata, func(xdata, *popt)* 8760 * pmax, 'r-', label='fit: L=%5.3f, k=%5.3f, x_0=%5.3f, a=%5.3f, b=%5.3f' % tuple(popt))\n",
    "    # plt.legend()\n",
    "    # X.append()\n",
    "    bid_df.loc[bid_df['Generator'] == gen, \"L\"] = popt[0]\n",
    "    bid_df.loc[bid_df['Generator'] == gen, \"L_abs\"] = popt[0] * pmax * 8760\n",
    "    bid_df.loc[bid_df['Generator'] == gen, \"k\"] = popt[1]\n",
    "    bid_df.loc[bid_df['Generator'] == gen, \"x_0\"] = popt[2]\n",
    "    # break"
   ]
  },
  {
   "cell_type": "code",
   "execution_count": 329,
   "metadata": {},
   "outputs": [],
   "source": [
    "fit_df = bid_df.drop(columns=bid_df.columns[bid_df.isna().any()].tolist()[:-4])\n",
    "fit_df = fit_df.dropna(axis=0)"
   ]
  },
  {
   "cell_type": "code",
   "execution_count": 330,
   "metadata": {},
   "outputs": [
    {
     "data": {
      "image/png": "[encoded data removed]",
      "text/plain": [
       "<Figure size 1152x720 with 2 Axes>"
      ]
     },
     "metadata": {},
     "output_type": "display_data"
    }
   ],
   "source": [
    "output_cols = [\"L_abs\", \"L\", 'k', 'x_0']\n",
    "input_cols = set(fit_df.columns).difference(set(output_cols))\n",
    "corr_df = fit_df.dropna(axis=1).drop(columns=[\"Bus ID\", \"Gen ID\"])\n",
    "corr_df = corr_df.corr().loc[corr_df.corr().index.isin(input_cols)][output_cols].dropna(axis=0)\n",
    "input_cols = corr_df.index\n",
    "plt.figure(figsize=(16, 10))\n",
    "heatmap = sns.heatmap(corr_df.sort_values(by=output_cols, ascending=False), vmin=-1, vmax=1, cmap='BrBG', annot=True, fmt=\".2f\")\n"
   ]
  },
  {
   "cell_type": "code",
   "execution_count": 332,
   "metadata": {},
   "outputs": [
    {
     "data": {
      "text/plain": [
       "0.9052794986655706"
      ]
     },
     "metadata": {},
     "output_type": "display_data"
    },
    {
     "data": {
      "text/plain": [
       "0.6371432325222782"
      ]
     },
     "metadata": {},
     "output_type": "display_data"
    },
    {
     "data": {
      "text/plain": [
       "[('HR_avg_0', 0.828806047862925),\n",
       " ('HR_incr_1', 0.12287200154573637),\n",
       " ('HR_incr_2', 0.022672862563265523),\n",
       " ('MVAR Inj', 0.01698761095587396),\n",
       " ('Start Heat Warm MBTU', 0.007699046556535925),\n",
       " ('HR_incr_3', 0.0009623168702832343),\n",
       " ('V Setpoint p.u.', 1.0114407281014926e-07),\n",
       " ('MW Inj', 1.2501307280638007e-08),\n",
       " ('PMax MW', 0.0),\n",
       " ('PMin MW', 0.0)]"
      ]
     },
     "execution_count": 332,
     "metadata": {},
     "output_type": "execute_result"
    }
   ],
   "source": [
    "X = fit_df[input_cols].to_numpy()\n",
    "y = fit_df[output_cols].to_numpy()\n",
    "\n",
    "regtree = DecisionTreeRegressor(random_state=1)\n",
    "reglin = LinearRegression()\n",
    "\n",
    "regtree.fit(X, y)\n",
    "reglin.fit(X, y)\n",
    "\n",
    "display(regtree.score(X, y), reglin.score(X,y))\n",
    "sorted(list(zip(input_cols, regtree.feature_importances_)), key=lambda row: -row[1])[0:10]"
   ]
  },
  {
   "cell_type": "code",
   "execution_count": 333,
   "metadata": {},
   "outputs": [
    {
     "data": {
      "text/html": [
       "<div>\n",
       "<style scoped>\n",
       "    .dataframe tbody tr th:only-of-type {\n",
       "        vertical-align: middle;\n",
       "    }\n",
       "\n",
       "    .dataframe tbody tr th {\n",
       "        vertical-align: top;\n",
       "    }\n",
       "\n",
       "    .dataframe thead th {\n",
       "        text-align: right;\n",
       "    }\n",
       "</style>\n",
       "<table border=\"1\" class=\"dataframe\">\n",
       "  <thead>\n",
       "    <tr style=\"text-align: right;\">\n",
       "      <th></th>\n",
       "      <th>L_abs</th>\n",
       "      <th>L</th>\n",
       "      <th>k</th>\n",
       "      <th>x_0</th>\n",
       "    </tr>\n",
       "  </thead>\n",
       "  <tbody>\n",
       "    <tr>\n",
       "      <th>count</th>\n",
       "      <td>3.400000e+01</td>\n",
       "      <td>3.400000e+01</td>\n",
       "      <td>34.000000</td>\n",
       "      <td>34.000000</td>\n",
       "    </tr>\n",
       "    <tr>\n",
       "      <th>mean</th>\n",
       "      <td>2.125649e+05</td>\n",
       "      <td>7.854350e-02</td>\n",
       "      <td>52.265820</td>\n",
       "      <td>0.718668</td>\n",
       "    </tr>\n",
       "    <tr>\n",
       "      <th>std</th>\n",
       "      <td>3.887220e+05</td>\n",
       "      <td>1.216378e-01</td>\n",
       "      <td>138.672500</td>\n",
       "      <td>1.127216</td>\n",
       "    </tr>\n",
       "    <tr>\n",
       "      <th>min</th>\n",
       "      <td>4.465734e-33</td>\n",
       "      <td>9.268853e-39</td>\n",
       "      <td>-13.012329</td>\n",
       "      <td>0.458421</td>\n",
       "    </tr>\n",
       "    <tr>\n",
       "      <th>25%</th>\n",
       "      <td>1.881542e+03</td>\n",
       "      <td>3.905235e-03</td>\n",
       "      <td>5.529121</td>\n",
       "      <td>0.490713</td>\n",
       "    </tr>\n",
       "    <tr>\n",
       "      <th>50%</th>\n",
       "      <td>6.908268e+03</td>\n",
       "      <td>1.433846e-02</td>\n",
       "      <td>21.730026</td>\n",
       "      <td>0.495117</td>\n",
       "    </tr>\n",
       "    <tr>\n",
       "      <th>75%</th>\n",
       "      <td>1.569887e+05</td>\n",
       "      <td>8.448842e-02</td>\n",
       "      <td>30.070155</td>\n",
       "      <td>0.498819</td>\n",
       "    </tr>\n",
       "    <tr>\n",
       "      <th>max</th>\n",
       "      <td>1.269082e+06</td>\n",
       "      <td>4.080911e-01</td>\n",
       "      <td>596.819861</td>\n",
       "      <td>7.061729</td>\n",
       "    </tr>\n",
       "  </tbody>\n",
       "</table>\n",
       "</div>"
      ],
      "text/plain": [
       "              L_abs             L           k        x_0\n",
       "count  3.400000e+01  3.400000e+01   34.000000  34.000000\n",
       "mean   2.125649e+05  7.854350e-02   52.265820   0.718668\n",
       "std    3.887220e+05  1.216378e-01  138.672500   1.127216\n",
       "min    4.465734e-33  9.268853e-39  -13.012329   0.458421\n",
       "25%    1.881542e+03  3.905235e-03    5.529121   0.490713\n",
       "50%    6.908268e+03  1.433846e-02   21.730026   0.495117\n",
       "75%    1.569887e+05  8.448842e-02   30.070155   0.498819\n",
       "max    1.269082e+06  4.080911e-01  596.819861   7.061729"
      ]
     },
     "execution_count": 333,
     "metadata": {},
     "output_type": "execute_result"
    }
   ],
   "source": [
    "fit_df[output_cols].describe()"
   ]
  },
  {
   "cell_type": "code",
   "execution_count": 344,
   "metadata": {},
   "outputs": [
    {
     "data": {
      "text/plain": [
       "<AxesSubplot:xlabel='HR_avg_0', ylabel='L'>"
      ]
     },
     "execution_count": 344,
     "metadata": {},
     "output_type": "execute_result"
    },
    {
     "data": {
      "image/png": "[encoded data removed]",
      "text/plain": [
       "<Figure size 432x288 with 1 Axes>"
      ]
     },
     "metadata": {},
     "output_type": "display_data"
    }
   ],
   "source": [
    "\n",
    "sns.scatterplot(\n",
    "    data=fit_df, y=\"L\", x=\"HR_avg_0\", hue=\"Generator\", legend=False\n",
    ")"
   ]
  },
  {
   "cell_type": "code",
   "execution_count": 347,
   "metadata": {},
   "outputs": [
    {
     "data": {
      "text/plain": [
       "0.9993130870254552"
      ]
     },
     "metadata": {},
     "output_type": "display_data"
    },
    {
     "data": {
      "text/plain": [
       "0.902975508013902"
      ]
     },
     "metadata": {},
     "output_type": "display_data"
    },
    {
     "data": {
      "text/plain": [
       "[('HR_avg_0', 0.8226394626581114),\n",
       " ('HR_incr_1', 0.130212438051913),\n",
       " ('HR_incr_2', 0.024789764366907448),\n",
       " ('MVAR Inj', 0.018054732497404014),\n",
       " ('Ramp Rate MW/Min', 0.0033048048260235314),\n",
       " ('HR_incr_3', 0.0009804868441579632),\n",
       " ('V Setpoint p.u.', 1.831075548262578e-05),\n",
       " ('MW Inj', 0.0),\n",
       " ('PMax MW', 0.0),\n",
       " ('PMin MW', 0.0)]"
      ]
     },
     "metadata": {},
     "output_type": "display_data"
    },
    {
     "data": {
      "text/plain": [
       "0.6279984715927119"
      ]
     },
     "metadata": {},
     "output_type": "display_data"
    },
    {
     "data": {
      "text/plain": [
       "0.5913167583303547"
      ]
     },
     "metadata": {},
     "output_type": "display_data"
    },
    {
     "data": {
      "text/plain": [
       "[('MW Inj', 0.9831924501491955),\n",
       " ('HR_incr_2', 0.00878789981487988),\n",
       " ('QMax MVAR', 0.0030877370614916205),\n",
       " ('HR_incr_3', 0.0019237679402747778),\n",
       " ('HR_avg_0', 0.0012837151145714371),\n",
       " ('MVAR Inj', 0.0009474880368404961),\n",
       " ('V Setpoint p.u.', 0.0006088521445484508),\n",
       " ('HR_incr_1', 0.00016535395332326975),\n",
       " ('MTTF Hr', 2.7357848745464706e-06),\n",
       " ('PMax MW', 0.0)]"
      ]
     },
     "metadata": {},
     "output_type": "display_data"
    },
    {
     "data": {
      "text/plain": [
       "0.9944157711920443"
      ]
     },
     "metadata": {},
     "output_type": "display_data"
    },
    {
     "data": {
      "text/plain": [
       "0.11714340706872017"
      ]
     },
     "metadata": {},
     "output_type": "display_data"
    },
    {
     "data": {
      "text/plain": [
       "[('MVAR Inj', 0.7419885766526026),\n",
       " ('HR_avg_0', 0.2532005340910089),\n",
       " ('V Setpoint p.u.', 0.004764915622514181),\n",
       " ('QMin MVAR', 2.3339670662473234e-05),\n",
       " ('HR_incr_2', 1.2697138210297208e-05),\n",
       " ('HR_incr_3', 8.741882760487977e-06),\n",
       " ('HR_incr_1', 7.866561668469226e-07),\n",
       " ('MW Inj', 2.8228267345251197e-07),\n",
       " ('Start Heat Cold MBTU', 1.2595664387826104e-07),\n",
       " ('FOR', 4.67568023240829e-11)]"
      ]
     },
     "metadata": {},
     "output_type": "display_data"
    }
   ],
   "source": [
    "from sklearn.preprocessing import PolynomialFeatures, SplineTransformer\n",
    "\n",
    "input_cols = corr_df.index\n",
    "\n",
    "X = fit_df[input_cols].to_numpy()\n",
    "for i in range(1, 4):\n",
    "    y = fit_df[output_cols[i]].to_numpy()\n",
    "\n",
    "    regtree = DecisionTreeRegressor(random_state=1)\n",
    "    regtree.fit(X, y)\n",
    "\n",
    "    reglin = LinearRegression()\n",
    "    reglin.fit(X, y)\n",
    "\n",
    "    display(regtree.score(X, y), reglin.score(X,y))\n",
    "    display(sorted(list(zip(input_cols, regtree.feature_importances_)), key=lambda row: -row[1])[0:10])"
   ]
  },
  {
   "cell_type": "code",
   "execution_count": 348,
   "metadata": {},
   "outputs": [
    {
     "data": {
      "text/plain": [
       "0.8739091099367372"
      ]
     },
     "metadata": {},
     "output_type": "display_data"
    },
    {
     "data": {
      "text/plain": [
       "0.6813114257358892"
      ]
     },
     "metadata": {},
     "output_type": "display_data"
    },
    {
     "data": {
      "text/plain": [
       "[('MW Inj', 0.9831867108842558),\n",
       " ('HR_incr_2', 0.008790981157429297),\n",
       " ('QMax MVAR', 0.003086957164732076),\n",
       " ('HR_incr_3', 0.0018300300749395976),\n",
       " ('HR_avg_0', 0.0014188559205610106),\n",
       " ('MVAR Inj', 0.0009474269785176178),\n",
       " ('HR_incr_1', 0.0007390378195645957),\n",
       " ('Start Heat Warm MBTU', 0.0)]"
      ]
     },
     "execution_count": 348,
     "metadata": {},
     "output_type": "execute_result"
    }
   ],
   "source": [
    "input_cols = ['HR_avg_0', 'HR_incr_1', 'HR_incr_2', 'MVAR Inj', 'Start Heat Warm MBTU',\n",
    " 'HR_incr_3', 'MW Inj', 'QMax MVAR']\n",
    "\n",
    "X = fit_df[input_cols].to_numpy()\n",
    "y = fit_df[output_cols[1:]].to_numpy()\n",
    "\n",
    "regtree = DecisionTreeRegressor(random_state=1)\n",
    "poly = PolynomialFeatures(len(input_cols))\n",
    "X_poly = poly.fit_transform(X)\n",
    "reglin = LinearRegression()\n",
    "\n",
    "regtree.fit(X, y)\n",
    "reglin.fit(X_poly, y)\n",
    "\n",
    "display(regtree.score(X, y), reglin.score(X_poly,y))\n",
    "sorted(list(zip(input_cols, regtree.feature_importances_)), key=lambda row: -row[1])[0:10]"
   ]
  },
  {
   "cell_type": "code",
   "execution_count": 350,
   "metadata": {},
   "outputs": [
    {
     "data": {
      "text/plain": [
       "0.9993130870254552"
      ]
     },
     "metadata": {},
     "output_type": "display_data"
    },
    {
     "data": {
      "text/plain": [
       "0.8998629469557674"
      ]
     },
     "metadata": {},
     "output_type": "display_data"
    },
    {
     "data": {
      "text/plain": [
       "0.9992985052220886"
      ]
     },
     "metadata": {},
     "output_type": "display_data"
    },
    {
     "data": {
      "text/plain": [
       "[('HR_avg_0', 0.8229793608697428),\n",
       " ('HR_incr_1', 0.1477265181391785),\n",
       " ('HR_incr_2', 0.0248868153457194),\n",
       " ('MW Inj', 0.00425496343875116),\n",
       " ('QMax MVAR', 0.00011206701053725355),\n",
       " ('HR_incr_3', 3.582802517507047e-05),\n",
       " ('MVAR Inj', 4.447170895871629e-06),\n",
       " ('Start Heat Warm MBTU', 0.0)]"
      ]
     },
     "metadata": {},
     "output_type": "display_data"
    },
    {
     "data": {
      "text/plain": [
       "0.627998471592712"
      ]
     },
     "metadata": {},
     "output_type": "display_data"
    },
    {
     "data": {
      "text/plain": [
       "0.5770961839173512"
      ]
     },
     "metadata": {},
     "output_type": "display_data"
    },
    {
     "data": {
      "text/plain": [
       "0.05739229792274003"
      ]
     },
     "metadata": {},
     "output_type": "display_data"
    },
    {
     "data": {
      "text/plain": [
       "[('MW Inj', 0.9832896876996421),\n",
       " ('HR_incr_2', 0.009362184896839),\n",
       " ('MVAR Inj', 0.004035452784361592),\n",
       " ('HR_incr_3', 0.0018265303898283613),\n",
       " ('HR_avg_0', 0.0014790328666457575),\n",
       " ('HR_incr_1', 6.238727359594552e-06),\n",
       " ('QMax MVAR', 8.726353237258591e-07),\n",
       " ('Start Heat Warm MBTU', 0.0)]"
      ]
     },
     "metadata": {},
     "output_type": "display_data"
    },
    {
     "data": {
      "text/plain": [
       "0.9944157711920443"
      ]
     },
     "metadata": {},
     "output_type": "display_data"
    },
    {
     "data": {
      "text/plain": [
       "0.11711495453040666"
      ]
     },
     "metadata": {},
     "output_type": "display_data"
    },
    {
     "data": {
      "text/plain": [
       "0.985592859130278"
      ]
     },
     "metadata": {},
     "output_type": "display_data"
    },
    {
     "data": {
      "text/plain": [
       "[('HR_incr_3', 0.7419911754547607),\n",
       " ('HR_avg_0', 0.2579771708253982),\n",
       " ('MVAR Inj', 1.8123165682163324e-05),\n",
       " ('HR_incr_2', 7.895086778575948e-06),\n",
       " ('HR_incr_1', 5.35318470686285e-06),\n",
       " ('MW Inj', 2.822826734738132e-07),\n",
       " ('Start Heat Warm MBTU', 0.0),\n",
       " ('QMax MVAR', 0.0)]"
      ]
     },
     "metadata": {},
     "output_type": "display_data"
    }
   ],
   "source": [
    "X = fit_df[input_cols].to_numpy()\n",
    "for i in range(1, 4):\n",
    "    y = fit_df[output_cols[i]].to_numpy()\n",
    "\n",
    "    regtree = DecisionTreeRegressor(random_state=1)\n",
    "    regtree.fit(X, y)\n",
    "\n",
    "    poly = PolynomialFeatures(len(input_cols))\n",
    "    X_poly = poly.fit_transform(X)\n",
    "    reglin = LinearRegression()\n",
    "    reglin.fit(X, y)\n",
    "    regpoly = LinearRegression()\n",
    "    regpoly.fit(X_poly, y)\n",
    "\n",
    "    display(regtree.score(X, y), reglin.score(X,y), regpoly.score(X_poly,y))\n",
    "    display(sorted(list(zip(input_cols, regtree.feature_importances_)), key=lambda row: -row[1])[0:10])"
   ]
  },
  {
   "cell_type": "markdown",
   "metadata": {},
   "source": [
    "### Fit NN"
   ]
  },
  {
   "cell_type": "code",
   "execution_count": null,
   "metadata": {},
   "outputs": [],
   "source": [
    "import tensorflow as tf\n",
    "from tensorflow import keras\n",
    "from tensorflow.keras import layers"
   ]
  },
  {
   "cell_type": "code",
   "execution_count": 149,
   "metadata": {},
   "outputs": [
    {
     "data": {
      "text/plain": [
       "Index(['Generator', 'Bus ID', 'Gen ID', 'Unit Group', 'Unit Type', 'Category',\n",
       "       'Fuel', 'MW Inj', 'MVAR Inj', 'V Setpoint p.u.', 'PMax MW', 'PMin MW',\n",
       "       'QMax MVAR', 'QMin MVAR', 'Min Down Time Hr', 'Min Up Time Hr',\n",
       "       'Ramp Rate MW/Min', 'Start Time Cold Hr', 'Start Time Warm Hr',\n",
       "       'Start Time Hot Hr', 'Start Heat Cold MBTU', 'Start Heat Warm MBTU',\n",
       "       'Start Heat Hot MBTU', 'Non Fuel Start Cost $',\n",
       "       'Non Fuel Shutdown Cost $', 'FOR', 'MTTF Hr', 'MTTR Hr',\n",
       "       'Scheduled Maint Weeks', 'Fuel Price $/MMBTU', 'Output_pct_0',\n",
       "       'Output_pct_1', 'Output_pct_2', 'Output_pct_3', 'Output_pct_4',\n",
       "       'HR_avg_0', 'HR_incr_1', 'HR_incr_2', 'HR_incr_3', 'HR_incr_4', 'VOM',\n",
       "       'Fuel Sulfur Content %', 'Emissions SO2 Lbs/MMBTU',\n",
       "       'Emissions NOX Lbs/MMBTU', 'Emissions Part Lbs/MMBTU',\n",
       "       'Emissions CO2 Lbs/MMBTU', 'Emissions CH4 Lbs/MMBTU',\n",
       "       'Emissions N2O Lbs/MMBTU', 'Emissions CO Lbs/MMBTU',\n",
       "       'Emissions VOCs Lbs/MMBTU', 'Damping Ratio', 'Inertia MJ/MW',\n",
       "       'Base MVA', 'Transformer X p.u.', 'Unit X p.u.', 'Pump Load MW',\n",
       "       'Storage Roundtrip Efficiency'],\n",
       "      dtype='object')"
      ]
     },
     "execution_count": 149,
     "metadata": {},
     "output_type": "execute_result"
    }
   ],
   "source": [
    "bid_df.columns"
   ]
  },
  {
   "cell_type": "code",
   "execution_count": 185,
   "metadata": {},
   "outputs": [],
   "source": [
    "# Min Up Time Hr as state of charge required?\n",
    "column_names = ['PMax MW', 'HR_avg_0', \"Min Up Time Hr\"]\n",
    "column_names = ['PMax MW', 'PMin MW',\n",
    "       'QMax MVAR', 'QMin MVAR', 'Min Down Time Hr', 'Min Up Time Hr',\n",
    "       'Ramp Rate MW/Min', 'Start Time Cold Hr', 'Start Time Warm Hr',\n",
    "       'Start Time Hot Hr', 'Start Heat Cold MBTU', 'Start Heat Warm MBTU',\n",
    "       'Start Heat Hot MBTU', 'Output_pct_0',\n",
    "       'Output_pct_1', 'Output_pct_2', 'Output_pct_3', 'Output_pct_4',\n",
    "       'HR_avg_0', 'HR_incr_1', 'HR_incr_2', 'HR_incr_3', 'HR_incr_4', ]\n",
    "column_names = ['PMax MW']\n",
    "train_features = ng_df.copy()\n",
    "train_features[\"Month\"] = train_features.set_index(\"Datetime\").index.month\n",
    "\n",
    "for c in column_names:\n",
    "    train_features[c] = -1\n",
    "for gen in train_features['Generator'].unique():\n",
    "    bid = bid_df[bid_df['Generator'] == gen]\n",
    "    # for c in column_names:\n",
    "        # train_features.loc[(ng_df['Generator'] == gen), c] = bid[c].unique()[0]\n",
    "\n",
    "train_features = train_features.drop(columns=[\"Datetime\", 'Generator', \"Unit Market Revenue\", 'Unit Uplift Payment', \"Dispatch\", 'Dispatch DA', 'Headroom', 'Unit Cost', 'Type'])\n",
    "train_features = train_features.dropna(axis=1)"
   ]
  },
  {
   "cell_type": "code",
   "execution_count": 186,
   "metadata": {},
   "outputs": [
    {
     "data": {
      "text/html": [
       "<div>\n",
       "<style scoped>\n",
       "    .dataframe tbody tr th:only-of-type {\n",
       "        vertical-align: middle;\n",
       "    }\n",
       "\n",
       "    .dataframe tbody tr th {\n",
       "        vertical-align: top;\n",
       "    }\n",
       "\n",
       "    .dataframe thead th {\n",
       "        text-align: right;\n",
       "    }\n",
       "</style>\n",
       "<table border=\"1\" class=\"dataframe\">\n",
       "  <thead>\n",
       "    <tr style=\"text-align: right;\">\n",
       "      <th></th>\n",
       "      <th>Month</th>\n",
       "      <th>PMax MW</th>\n",
       "    </tr>\n",
       "  </thead>\n",
       "  <tbody>\n",
       "    <tr>\n",
       "      <th>0</th>\n",
       "      <td>1</td>\n",
       "      <td>-1</td>\n",
       "    </tr>\n",
       "    <tr>\n",
       "      <th>1</th>\n",
       "      <td>2</td>\n",
       "      <td>-1</td>\n",
       "    </tr>\n",
       "    <tr>\n",
       "      <th>2</th>\n",
       "      <td>3</td>\n",
       "      <td>-1</td>\n",
       "    </tr>\n",
       "    <tr>\n",
       "      <th>3</th>\n",
       "      <td>4</td>\n",
       "      <td>-1</td>\n",
       "    </tr>\n",
       "    <tr>\n",
       "      <th>4</th>\n",
       "      <td>5</td>\n",
       "      <td>-1</td>\n",
       "    </tr>\n",
       "    <tr>\n",
       "      <th>...</th>\n",
       "      <td>...</td>\n",
       "      <td>...</td>\n",
       "    </tr>\n",
       "    <tr>\n",
       "      <th>439</th>\n",
       "      <td>8</td>\n",
       "      <td>-1</td>\n",
       "    </tr>\n",
       "    <tr>\n",
       "      <th>440</th>\n",
       "      <td>9</td>\n",
       "      <td>-1</td>\n",
       "    </tr>\n",
       "    <tr>\n",
       "      <th>441</th>\n",
       "      <td>10</td>\n",
       "      <td>-1</td>\n",
       "    </tr>\n",
       "    <tr>\n",
       "      <th>442</th>\n",
       "      <td>11</td>\n",
       "      <td>-1</td>\n",
       "    </tr>\n",
       "    <tr>\n",
       "      <th>443</th>\n",
       "      <td>12</td>\n",
       "      <td>-1</td>\n",
       "    </tr>\n",
       "  </tbody>\n",
       "</table>\n",
       "<p>444 rows × 2 columns</p>\n",
       "</div>"
      ],
      "text/plain": [
       "     Month  PMax MW\n",
       "0        1       -1\n",
       "1        2       -1\n",
       "2        3       -1\n",
       "3        4       -1\n",
       "4        5       -1\n",
       "..     ...      ...\n",
       "439      8       -1\n",
       "440      9       -1\n",
       "441     10       -1\n",
       "442     11       -1\n",
       "443     12       -1\n",
       "\n",
       "[444 rows x 2 columns]"
      ]
     },
     "metadata": {},
     "output_type": "display_data"
    },
    {
     "data": {
      "text/plain": [
       "0      0.010369\n",
       "1      0.024052\n",
       "2      0.038023\n",
       "3      0.053251\n",
       "4      0.072451\n",
       "         ...   \n",
       "439    0.129194\n",
       "440    0.149249\n",
       "441    0.157799\n",
       "442    0.164010\n",
       "443    0.174411\n",
       "Name: CF, Length: 444, dtype: float64"
      ]
     },
     "metadata": {},
     "output_type": "display_data"
    }
   ],
   "source": [
    "train_labels = train_features.pop('CF')\n",
    "display(train_features)\n",
    "display(train_labels)"
   ]
  },
  {
   "cell_type": "code",
   "execution_count": 208,
   "metadata": {},
   "outputs": [
    {
     "name": "stdout",
     "output_type": "stream",
     "text": [
      "Model: \"model_39\"\n",
      "__________________________________________________________________________________________________\n",
      " Layer (type)                   Output Shape         Param #     Connected to                     \n",
      "==================================================================================================\n",
      " input_47 (InputLayer)          [(None, 2)]          0           []                               \n",
      "                                                                                                  \n",
      " normalization_53 (Normalizatio  (None, 2)           3           ['input_47[0][0]']               \n",
      " n)                                                                                               \n",
      "                                                                                                  \n",
      " dense_129 (Dense)              (None, 1)            3           ['normalization_53[0][0]']       \n",
      "                                                                                                  \n",
      " dense_130 (Dense)              (None, 1)            2           ['dense_129[0][0]']              \n",
      "                                                                                                  \n",
      " dense_131 (Dense)              (None, 1)            3           ['normalization_53[0][0]']       \n",
      "                                                                                                  \n",
      " add_18 (Add)                   (None, 1)            0           ['dense_130[0][0]',              \n",
      "                                                                  'dense_131[0][0]']              \n",
      "                                                                                                  \n",
      "==================================================================================================\n",
      "Total params: 11\n",
      "Trainable params: 8\n",
      "Non-trainable params: 3\n",
      "__________________________________________________________________________________________________\n"
     ]
    },
    {
     "data": {
      "text/plain": [
       "None"
      ]
     },
     "metadata": {},
     "output_type": "display_data"
    },
    {
     "data": {
      "text/html": [
       "<div>\n",
       "<style scoped>\n",
       "    .dataframe tbody tr th:only-of-type {\n",
       "        vertical-align: middle;\n",
       "    }\n",
       "\n",
       "    .dataframe tbody tr th {\n",
       "        vertical-align: top;\n",
       "    }\n",
       "\n",
       "    .dataframe thead th {\n",
       "        text-align: right;\n",
       "    }\n",
       "</style>\n",
       "<table border=\"1\" class=\"dataframe\">\n",
       "  <thead>\n",
       "    <tr style=\"text-align: right;\">\n",
       "      <th></th>\n",
       "      <th>loss</th>\n",
       "      <th>val_loss</th>\n",
       "      <th>epoch</th>\n",
       "    </tr>\n",
       "  </thead>\n",
       "  <tbody>\n",
       "    <tr>\n",
       "      <th>45</th>\n",
       "      <td>0.053592</td>\n",
       "      <td>0.054197</td>\n",
       "      <td>45</td>\n",
       "    </tr>\n",
       "    <tr>\n",
       "      <th>46</th>\n",
       "      <td>0.047738</td>\n",
       "      <td>0.056285</td>\n",
       "      <td>46</td>\n",
       "    </tr>\n",
       "    <tr>\n",
       "      <th>47</th>\n",
       "      <td>0.042240</td>\n",
       "      <td>0.049898</td>\n",
       "      <td>47</td>\n",
       "    </tr>\n",
       "    <tr>\n",
       "      <th>48</th>\n",
       "      <td>0.037479</td>\n",
       "      <td>0.053934</td>\n",
       "      <td>48</td>\n",
       "    </tr>\n",
       "    <tr>\n",
       "      <th>49</th>\n",
       "      <td>0.033097</td>\n",
       "      <td>0.059562</td>\n",
       "      <td>49</td>\n",
       "    </tr>\n",
       "  </tbody>\n",
       "</table>\n",
       "</div>"
      ],
      "text/plain": [
       "        loss  val_loss  epoch\n",
       "45  0.053592  0.054197     45\n",
       "46  0.047738  0.056285     46\n",
       "47  0.042240  0.049898     47\n",
       "48  0.037479  0.053934     48\n",
       "49  0.033097  0.059562     49"
      ]
     },
     "execution_count": 208,
     "metadata": {},
     "output_type": "execute_result"
    }
   ],
   "source": [
    "input_layer = layers.Input(train_features.shape[1:])\n",
    "\n",
    "normalizer = layers.Normalization(input_shape=train_features.shape[1:], axis=None)\n",
    "normalizer.adapt(train_features)\n",
    "normalizer = normalizer(input_layer)\n",
    "\n",
    "branch_a = layers.Dense(1, activation='sigmoid')(normalizer)\n",
    "output_a = layers.Dense(1)(branch_a)\n",
    "\n",
    "output_b = layers.Dense(1)(normalizer) # This will be one of my outputs, so I want a linear activation\n",
    "\n",
    "final_output = layers.Add()([output_a, output_b])\n",
    "model = tf.keras.Model(input_layer, final_output)\n",
    "\n",
    "def my_loss_fn(y_true, y_pred):\n",
    "    # squared_difference = tf.square(y_true - y_pred)\n",
    "    loss = abs(y_true - y_pred)\n",
    "    # return tf.reduce_mean(squared_difference, axis=-1) \n",
    "    return tf.reduce_mean(loss, axis=-1) \n",
    "\n",
    "model.compile(loss='mean_absolute_error',\n",
    "                optimizer=tf.keras.optimizers.Adam(0.001))\n",
    "display(model.summary())\n",
    "\n",
    "history = model.fit(\n",
    "    train_features,\n",
    "    train_labels,\n",
    "    validation_split=0.2,\n",
    "    verbose=0, epochs=50)\n",
    "\n",
    "hist = pd.DataFrame(history.history)\n",
    "hist['epoch'] = history.epoch\n",
    "hist.tail()\n"
   ]
  },
  {
   "cell_type": "code",
   "execution_count": 209,
   "metadata": {},
   "outputs": [
    {
     "data": {
      "text/html": [
       "<div>\n",
       "<style scoped>\n",
       "    .dataframe tbody tr th:only-of-type {\n",
       "        vertical-align: middle;\n",
       "    }\n",
       "\n",
       "    .dataframe tbody tr th {\n",
       "        vertical-align: top;\n",
       "    }\n",
       "\n",
       "    .dataframe thead th {\n",
       "        text-align: right;\n",
       "    }\n",
       "</style>\n",
       "<table border=\"1\" class=\"dataframe\">\n",
       "  <thead>\n",
       "    <tr style=\"text-align: right;\">\n",
       "      <th></th>\n",
       "      <th>Month</th>\n",
       "      <th>PMax MW</th>\n",
       "    </tr>\n",
       "  </thead>\n",
       "  <tbody>\n",
       "    <tr>\n",
       "      <th>0</th>\n",
       "      <td>1</td>\n",
       "      <td>-1</td>\n",
       "    </tr>\n",
       "    <tr>\n",
       "      <th>1</th>\n",
       "      <td>2</td>\n",
       "      <td>-1</td>\n",
       "    </tr>\n",
       "    <tr>\n",
       "      <th>2</th>\n",
       "      <td>3</td>\n",
       "      <td>-1</td>\n",
       "    </tr>\n",
       "    <tr>\n",
       "      <th>3</th>\n",
       "      <td>4</td>\n",
       "      <td>-1</td>\n",
       "    </tr>\n",
       "    <tr>\n",
       "      <th>4</th>\n",
       "      <td>5</td>\n",
       "      <td>-1</td>\n",
       "    </tr>\n",
       "    <tr>\n",
       "      <th>5</th>\n",
       "      <td>6</td>\n",
       "      <td>-1</td>\n",
       "    </tr>\n",
       "    <tr>\n",
       "      <th>6</th>\n",
       "      <td>7</td>\n",
       "      <td>-1</td>\n",
       "    </tr>\n",
       "    <tr>\n",
       "      <th>7</th>\n",
       "      <td>8</td>\n",
       "      <td>-1</td>\n",
       "    </tr>\n",
       "    <tr>\n",
       "      <th>8</th>\n",
       "      <td>9</td>\n",
       "      <td>-1</td>\n",
       "    </tr>\n",
       "    <tr>\n",
       "      <th>9</th>\n",
       "      <td>10</td>\n",
       "      <td>-1</td>\n",
       "    </tr>\n",
       "    <tr>\n",
       "      <th>10</th>\n",
       "      <td>11</td>\n",
       "      <td>-1</td>\n",
       "    </tr>\n",
       "    <tr>\n",
       "      <th>11</th>\n",
       "      <td>12</td>\n",
       "      <td>-1</td>\n",
       "    </tr>\n",
       "  </tbody>\n",
       "</table>\n",
       "</div>"
      ],
      "text/plain": [
       "    Month  PMax MW\n",
       "0       1       -1\n",
       "1       2       -1\n",
       "2       3       -1\n",
       "3       4       -1\n",
       "4       5       -1\n",
       "5       6       -1\n",
       "6       7       -1\n",
       "7       8       -1\n",
       "8       9       -1\n",
       "9      10       -1\n",
       "10     11       -1\n",
       "11     12       -1"
      ]
     },
     "metadata": {},
     "output_type": "display_data"
    },
    {
     "data": {
      "text/plain": [
       "0     0.010369\n",
       "1     0.024052\n",
       "2     0.038023\n",
       "3     0.053251\n",
       "4     0.072451\n",
       "5     0.098337\n",
       "6     0.140826\n",
       "7     0.185158\n",
       "8     0.214329\n",
       "9     0.233772\n",
       "10    0.243825\n",
       "11    0.265779\n",
       "Name: CF, dtype: float64"
      ]
     },
     "metadata": {},
     "output_type": "display_data"
    },
    {
     "name": "stdout",
     "output_type": "stream",
     "text": [
      "1/1 [==============================] - 0s 90ms/step\n"
     ]
    },
    {
     "data": {
      "text/plain": [
       "array([[-0.01751921],\n",
       "       [-0.01246639],\n",
       "       [-0.00794455],\n",
       "       [-0.00394365],\n",
       "       [-0.00045025],\n",
       "       [ 0.00255284],\n",
       "       [ 0.00508645],\n",
       "       [ 0.00717527],\n",
       "       [ 0.00884759],\n",
       "       [ 0.01013532],\n",
       "       [ 0.01107407],\n",
       "       [ 0.01170236]], dtype=float32)"
      ]
     },
     "execution_count": 209,
     "metadata": {},
     "output_type": "execute_result"
    }
   ],
   "source": [
    "display(train_features[:12])\n",
    "display(train_labels[:12])\n",
    "model.predict(train_features[:12])"
   ]
  },
  {
   "cell_type": "code",
   "execution_count": 198,
   "metadata": {},
   "outputs": [
    {
     "name": "stdout",
     "output_type": "stream",
     "text": [
      "[]\n",
      "[array([[-0.22545655],\n",
      "       [-0.05729615]], dtype=float32), array([-0.09575251], dtype=float32)]\n",
      "[array([[ 0.88948953],\n",
      "       [-1.3107144 ]], dtype=float32), array([-0.09999999], dtype=float32)]\n",
      "[]\n"
     ]
    }
   ],
   "source": [
    "# temp list as a container for each layer formulas\n",
    "formula_list = []\n",
    "# counter of hidden layers\n",
    "f_n = 1\n",
    "#\n",
    "for i in range(len(model.layers)):\n",
    "    # get ith Keras layer's weights and biases\n",
    "    layer = model.layers[i]\n",
    "    W = layer.get_weights()\n",
    "    print(W)"
   ]
  },
  {
   "cell_type": "code",
   "execution_count": 6,
   "metadata": {},
   "outputs": [],
   "source": [
    "column_names = ['MPG', 'Cylinders', 'Displacement', 'Horsepower', 'Weight',\n",
    "                'Acceleration', 'Model Year', 'Origin']\n",
    "\n",
    "raw_dataset = pd.read_csv(\"/Users/dguittet/Projects/Dispatches/dispatches/auto-mpg.data\", names=column_names,\n",
    "                          na_values='?', comment='\\t',\n",
    "                          sep=' ', skipinitialspace=True)"
   ]
  },
  {
   "cell_type": "code",
   "execution_count": 10,
   "metadata": {},
   "outputs": [
    {
     "data": {
      "text/html": [
       "<div>\n",
       "<style scoped>\n",
       "    .dataframe tbody tr th:only-of-type {\n",
       "        vertical-align: middle;\n",
       "    }\n",
       "\n",
       "    .dataframe tbody tr th {\n",
       "        vertical-align: top;\n",
       "    }\n",
       "\n",
       "    .dataframe thead th {\n",
       "        text-align: right;\n",
       "    }\n",
       "</style>\n",
       "<table border=\"1\" class=\"dataframe\">\n",
       "  <thead>\n",
       "    <tr style=\"text-align: right;\">\n",
       "      <th></th>\n",
       "      <th>MPG</th>\n",
       "      <th>Cylinders</th>\n",
       "      <th>Displacement</th>\n",
       "      <th>Horsepower</th>\n",
       "      <th>Weight</th>\n",
       "      <th>Acceleration</th>\n",
       "      <th>Model Year</th>\n",
       "      <th>Origin</th>\n",
       "    </tr>\n",
       "  </thead>\n",
       "  <tbody>\n",
       "    <tr>\n",
       "      <th>393</th>\n",
       "      <td>27.0</td>\n",
       "      <td>4</td>\n",
       "      <td>140.0</td>\n",
       "      <td>86.0</td>\n",
       "      <td>2790.0</td>\n",
       "      <td>15.6</td>\n",
       "      <td>82</td>\n",
       "      <td>1</td>\n",
       "    </tr>\n",
       "    <tr>\n",
       "      <th>394</th>\n",
       "      <td>44.0</td>\n",
       "      <td>4</td>\n",
       "      <td>97.0</td>\n",
       "      <td>52.0</td>\n",
       "      <td>2130.0</td>\n",
       "      <td>24.6</td>\n",
       "      <td>82</td>\n",
       "      <td>2</td>\n",
       "    </tr>\n",
       "    <tr>\n",
       "      <th>395</th>\n",
       "      <td>32.0</td>\n",
       "      <td>4</td>\n",
       "      <td>135.0</td>\n",
       "      <td>84.0</td>\n",
       "      <td>2295.0</td>\n",
       "      <td>11.6</td>\n",
       "      <td>82</td>\n",
       "      <td>1</td>\n",
       "    </tr>\n",
       "    <tr>\n",
       "      <th>396</th>\n",
       "      <td>28.0</td>\n",
       "      <td>4</td>\n",
       "      <td>120.0</td>\n",
       "      <td>79.0</td>\n",
       "      <td>2625.0</td>\n",
       "      <td>18.6</td>\n",
       "      <td>82</td>\n",
       "      <td>1</td>\n",
       "    </tr>\n",
       "    <tr>\n",
       "      <th>397</th>\n",
       "      <td>31.0</td>\n",
       "      <td>4</td>\n",
       "      <td>119.0</td>\n",
       "      <td>82.0</td>\n",
       "      <td>2720.0</td>\n",
       "      <td>19.4</td>\n",
       "      <td>82</td>\n",
       "      <td>1</td>\n",
       "    </tr>\n",
       "  </tbody>\n",
       "</table>\n",
       "</div>"
      ],
      "text/plain": [
       "      MPG  Cylinders  Displacement  Horsepower  Weight  Acceleration  \\\n",
       "393  27.0          4         140.0        86.0  2790.0          15.6   \n",
       "394  44.0          4          97.0        52.0  2130.0          24.6   \n",
       "395  32.0          4         135.0        84.0  2295.0          11.6   \n",
       "396  28.0          4         120.0        79.0  2625.0          18.6   \n",
       "397  31.0          4         119.0        82.0  2720.0          19.4   \n",
       "\n",
       "     Model Year  Origin  \n",
       "393          82       1  \n",
       "394          82       2  \n",
       "395          82       1  \n",
       "396          82       1  \n",
       "397          82       1  "
      ]
     },
     "execution_count": 10,
     "metadata": {},
     "output_type": "execute_result"
    }
   ],
   "source": [
    "dataset = raw_dataset.copy()\n",
    "dataset.tail()"
   ]
  },
  {
   "cell_type": "code",
   "execution_count": 11,
   "metadata": {},
   "outputs": [
    {
     "data": {
      "text/html": [
       "<div>\n",
       "<style scoped>\n",
       "    .dataframe tbody tr th:only-of-type {\n",
       "        vertical-align: middle;\n",
       "    }\n",
       "\n",
       "    .dataframe tbody tr th {\n",
       "        vertical-align: top;\n",
       "    }\n",
       "\n",
       "    .dataframe thead th {\n",
       "        text-align: right;\n",
       "    }\n",
       "</style>\n",
       "<table border=\"1\" class=\"dataframe\">\n",
       "  <thead>\n",
       "    <tr style=\"text-align: right;\">\n",
       "      <th></th>\n",
       "      <th>MPG</th>\n",
       "      <th>Cylinders</th>\n",
       "      <th>Displacement</th>\n",
       "      <th>Horsepower</th>\n",
       "      <th>Weight</th>\n",
       "      <th>Acceleration</th>\n",
       "      <th>Model Year</th>\n",
       "      <th>Europe</th>\n",
       "      <th>Japan</th>\n",
       "      <th>USA</th>\n",
       "    </tr>\n",
       "  </thead>\n",
       "  <tbody>\n",
       "    <tr>\n",
       "      <th>393</th>\n",
       "      <td>27.0</td>\n",
       "      <td>4</td>\n",
       "      <td>140.0</td>\n",
       "      <td>86.0</td>\n",
       "      <td>2790.0</td>\n",
       "      <td>15.6</td>\n",
       "      <td>82</td>\n",
       "      <td>0</td>\n",
       "      <td>0</td>\n",
       "      <td>1</td>\n",
       "    </tr>\n",
       "    <tr>\n",
       "      <th>394</th>\n",
       "      <td>44.0</td>\n",
       "      <td>4</td>\n",
       "      <td>97.0</td>\n",
       "      <td>52.0</td>\n",
       "      <td>2130.0</td>\n",
       "      <td>24.6</td>\n",
       "      <td>82</td>\n",
       "      <td>1</td>\n",
       "      <td>0</td>\n",
       "      <td>0</td>\n",
       "    </tr>\n",
       "    <tr>\n",
       "      <th>395</th>\n",
       "      <td>32.0</td>\n",
       "      <td>4</td>\n",
       "      <td>135.0</td>\n",
       "      <td>84.0</td>\n",
       "      <td>2295.0</td>\n",
       "      <td>11.6</td>\n",
       "      <td>82</td>\n",
       "      <td>0</td>\n",
       "      <td>0</td>\n",
       "      <td>1</td>\n",
       "    </tr>\n",
       "    <tr>\n",
       "      <th>396</th>\n",
       "      <td>28.0</td>\n",
       "      <td>4</td>\n",
       "      <td>120.0</td>\n",
       "      <td>79.0</td>\n",
       "      <td>2625.0</td>\n",
       "      <td>18.6</td>\n",
       "      <td>82</td>\n",
       "      <td>0</td>\n",
       "      <td>0</td>\n",
       "      <td>1</td>\n",
       "    </tr>\n",
       "    <tr>\n",
       "      <th>397</th>\n",
       "      <td>31.0</td>\n",
       "      <td>4</td>\n",
       "      <td>119.0</td>\n",
       "      <td>82.0</td>\n",
       "      <td>2720.0</td>\n",
       "      <td>19.4</td>\n",
       "      <td>82</td>\n",
       "      <td>0</td>\n",
       "      <td>0</td>\n",
       "      <td>1</td>\n",
       "    </tr>\n",
       "  </tbody>\n",
       "</table>\n",
       "</div>"
      ],
      "text/plain": [
       "      MPG  Cylinders  Displacement  Horsepower  Weight  Acceleration  \\\n",
       "393  27.0          4         140.0        86.0  2790.0          15.6   \n",
       "394  44.0          4          97.0        52.0  2130.0          24.6   \n",
       "395  32.0          4         135.0        84.0  2295.0          11.6   \n",
       "396  28.0          4         120.0        79.0  2625.0          18.6   \n",
       "397  31.0          4         119.0        82.0  2720.0          19.4   \n",
       "\n",
       "     Model Year  Europe  Japan  USA  \n",
       "393          82       0      0    1  \n",
       "394          82       1      0    0  \n",
       "395          82       0      0    1  \n",
       "396          82       0      0    1  \n",
       "397          82       0      0    1  "
      ]
     },
     "execution_count": 11,
     "metadata": {},
     "output_type": "execute_result"
    }
   ],
   "source": [
    "dataset = dataset.dropna()\n",
    "dataset['Origin'] = dataset['Origin'].map({1: 'USA', 2: 'Europe', 3: 'Japan'})\n",
    "dataset = pd.get_dummies(dataset, columns=['Origin'], prefix='', prefix_sep='')\n",
    "dataset.tail()"
   ]
  },
  {
   "cell_type": "code",
   "execution_count": 14,
   "metadata": {},
   "outputs": [
    {
     "data": {
      "text/plain": [
       "<seaborn.axisgrid.PairGrid at 0x7faaba5d22e0>"
      ]
     },
     "execution_count": 14,
     "metadata": {},
     "output_type": "execute_result"
    },
    {
     "data": {
      "image/png": "[encoded data removed]",
      "text/plain": [
       "<Figure size 720x720 with 20 Axes>"
      ]
     },
     "metadata": {},
     "output_type": "display_data"
    }
   ],
   "source": [
    "train_dataset = dataset.sample(frac=0.8, random_state=0)\n",
    "test_dataset = dataset.drop(train_dataset.index)\n",
    "\n",
    "sns.pairplot(train_dataset[['MPG', 'Cylinders', 'Displacement', 'Weight']], diag_kind='kde')"
   ]
  },
  {
   "cell_type": "code",
   "execution_count": 136,
   "metadata": {},
   "outputs": [
    {
     "data": {
      "text/plain": [
       "(9,)"
      ]
     },
     "execution_count": 136,
     "metadata": {},
     "output_type": "execute_result"
    }
   ],
   "source": [
    "train_features = train_dataset.copy()\n",
    "test_features = test_dataset.copy()\n",
    "\n",
    "train_labels = train_features.pop('MPG')\n",
    "test_labels = test_features.pop('MPG')\n",
    "\n",
    "train_dataset.describe().transpose()[['mean', 'std']]\n",
    "train_features.shape[1:]"
   ]
  },
  {
   "cell_type": "code",
   "execution_count": 20,
   "metadata": {},
   "outputs": [
    {
     "data": {
      "text/html": [
       "<div>\n",
       "<style scoped>\n",
       "    .dataframe tbody tr th:only-of-type {\n",
       "        vertical-align: middle;\n",
       "    }\n",
       "\n",
       "    .dataframe tbody tr th {\n",
       "        vertical-align: top;\n",
       "    }\n",
       "\n",
       "    .dataframe thead th {\n",
       "        text-align: right;\n",
       "    }\n",
       "</style>\n",
       "<table border=\"1\" class=\"dataframe\">\n",
       "  <thead>\n",
       "    <tr style=\"text-align: right;\">\n",
       "      <th></th>\n",
       "      <th>Cylinders</th>\n",
       "      <th>Displacement</th>\n",
       "      <th>Horsepower</th>\n",
       "      <th>Weight</th>\n",
       "      <th>Acceleration</th>\n",
       "      <th>Model Year</th>\n",
       "      <th>Europe</th>\n",
       "      <th>Japan</th>\n",
       "      <th>USA</th>\n",
       "    </tr>\n",
       "  </thead>\n",
       "  <tbody>\n",
       "    <tr>\n",
       "      <th>146</th>\n",
       "      <td>4</td>\n",
       "      <td>90.0</td>\n",
       "      <td>75.0</td>\n",
       "      <td>2125.0</td>\n",
       "      <td>14.5</td>\n",
       "      <td>74</td>\n",
       "      <td>0</td>\n",
       "      <td>0</td>\n",
       "      <td>1</td>\n",
       "    </tr>\n",
       "    <tr>\n",
       "      <th>282</th>\n",
       "      <td>4</td>\n",
       "      <td>140.0</td>\n",
       "      <td>88.0</td>\n",
       "      <td>2890.0</td>\n",
       "      <td>17.3</td>\n",
       "      <td>79</td>\n",
       "      <td>0</td>\n",
       "      <td>0</td>\n",
       "      <td>1</td>\n",
       "    </tr>\n",
       "    <tr>\n",
       "      <th>69</th>\n",
       "      <td>8</td>\n",
       "      <td>350.0</td>\n",
       "      <td>160.0</td>\n",
       "      <td>4456.0</td>\n",
       "      <td>13.5</td>\n",
       "      <td>72</td>\n",
       "      <td>0</td>\n",
       "      <td>0</td>\n",
       "      <td>1</td>\n",
       "    </tr>\n",
       "    <tr>\n",
       "      <th>378</th>\n",
       "      <td>4</td>\n",
       "      <td>105.0</td>\n",
       "      <td>63.0</td>\n",
       "      <td>2125.0</td>\n",
       "      <td>14.7</td>\n",
       "      <td>82</td>\n",
       "      <td>0</td>\n",
       "      <td>0</td>\n",
       "      <td>1</td>\n",
       "    </tr>\n",
       "    <tr>\n",
       "      <th>331</th>\n",
       "      <td>4</td>\n",
       "      <td>97.0</td>\n",
       "      <td>67.0</td>\n",
       "      <td>2145.0</td>\n",
       "      <td>18.0</td>\n",
       "      <td>80</td>\n",
       "      <td>0</td>\n",
       "      <td>1</td>\n",
       "      <td>0</td>\n",
       "    </tr>\n",
       "    <tr>\n",
       "      <th>...</th>\n",
       "      <td>...</td>\n",
       "      <td>...</td>\n",
       "      <td>...</td>\n",
       "      <td>...</td>\n",
       "      <td>...</td>\n",
       "      <td>...</td>\n",
       "      <td>...</td>\n",
       "      <td>...</td>\n",
       "      <td>...</td>\n",
       "    </tr>\n",
       "    <tr>\n",
       "      <th>281</th>\n",
       "      <td>6</td>\n",
       "      <td>200.0</td>\n",
       "      <td>85.0</td>\n",
       "      <td>2990.0</td>\n",
       "      <td>18.2</td>\n",
       "      <td>79</td>\n",
       "      <td>0</td>\n",
       "      <td>0</td>\n",
       "      <td>1</td>\n",
       "    </tr>\n",
       "    <tr>\n",
       "      <th>229</th>\n",
       "      <td>8</td>\n",
       "      <td>400.0</td>\n",
       "      <td>180.0</td>\n",
       "      <td>4220.0</td>\n",
       "      <td>11.1</td>\n",
       "      <td>77</td>\n",
       "      <td>0</td>\n",
       "      <td>0</td>\n",
       "      <td>1</td>\n",
       "    </tr>\n",
       "    <tr>\n",
       "      <th>150</th>\n",
       "      <td>4</td>\n",
       "      <td>108.0</td>\n",
       "      <td>93.0</td>\n",
       "      <td>2391.0</td>\n",
       "      <td>15.5</td>\n",
       "      <td>74</td>\n",
       "      <td>0</td>\n",
       "      <td>1</td>\n",
       "      <td>0</td>\n",
       "    </tr>\n",
       "    <tr>\n",
       "      <th>145</th>\n",
       "      <td>4</td>\n",
       "      <td>83.0</td>\n",
       "      <td>61.0</td>\n",
       "      <td>2003.0</td>\n",
       "      <td>19.0</td>\n",
       "      <td>74</td>\n",
       "      <td>0</td>\n",
       "      <td>1</td>\n",
       "      <td>0</td>\n",
       "    </tr>\n",
       "    <tr>\n",
       "      <th>182</th>\n",
       "      <td>4</td>\n",
       "      <td>107.0</td>\n",
       "      <td>86.0</td>\n",
       "      <td>2464.0</td>\n",
       "      <td>15.5</td>\n",
       "      <td>76</td>\n",
       "      <td>1</td>\n",
       "      <td>0</td>\n",
       "      <td>0</td>\n",
       "    </tr>\n",
       "  </tbody>\n",
       "</table>\n",
       "<p>314 rows × 9 columns</p>\n",
       "</div>"
      ],
      "text/plain": [
       "     Cylinders  Displacement  Horsepower  Weight  Acceleration  Model Year  \\\n",
       "146          4          90.0        75.0  2125.0          14.5          74   \n",
       "282          4         140.0        88.0  2890.0          17.3          79   \n",
       "69           8         350.0       160.0  4456.0          13.5          72   \n",
       "378          4         105.0        63.0  2125.0          14.7          82   \n",
       "331          4          97.0        67.0  2145.0          18.0          80   \n",
       "..         ...           ...         ...     ...           ...         ...   \n",
       "281          6         200.0        85.0  2990.0          18.2          79   \n",
       "229          8         400.0       180.0  4220.0          11.1          77   \n",
       "150          4         108.0        93.0  2391.0          15.5          74   \n",
       "145          4          83.0        61.0  2003.0          19.0          74   \n",
       "182          4         107.0        86.0  2464.0          15.5          76   \n",
       "\n",
       "     Europe  Japan  USA  \n",
       "146       0      0    1  \n",
       "282       0      0    1  \n",
       "69        0      0    1  \n",
       "378       0      0    1  \n",
       "331       0      1    0  \n",
       "..      ...    ...  ...  \n",
       "281       0      0    1  \n",
       "229       0      0    1  \n",
       "150       0      1    0  \n",
       "145       0      1    0  \n",
       "182       1      0    0  \n",
       "\n",
       "[314 rows x 9 columns]"
      ]
     },
     "metadata": {},
     "output_type": "display_data"
    },
    {
     "name": "stdout",
     "output_type": "stream",
     "text": [
      "[[5.47770691e+00 1.95318497e+02 1.04869446e+02 2.99025171e+03\n",
      "  1.55592356e+01 7.58980942e+01 1.78343967e-01 1.97452217e-01\n",
      "  6.24203861e-01]]\n"
     ]
    }
   ],
   "source": [
    "import tensorflow as tf\n",
    "from tensorflow import keras\n",
    "from tensorflow.keras import layers\n",
    "\n",
    "normalizer = tf.keras.layers.Normalization(axis=-1)\n",
    "normalizer.adapt(np.array(train_features))\n",
    "display(train_features)\n",
    "print(normalizer.mean.numpy())"
   ]
  },
  {
   "cell_type": "code",
   "execution_count": 21,
   "metadata": {},
   "outputs": [
    {
     "name": "stdout",
     "output_type": "stream",
     "text": [
      "First example: [[   4.    90.    75.  2125.    14.5   74.     0.     0.     1. ]]\n",
      "\n",
      "Normalized: [[-0.87 -1.01 -0.79 -1.03 -0.38 -0.52 -0.47 -0.5   0.78]]\n"
     ]
    }
   ],
   "source": [
    "first = np.array(train_features[:1])\n",
    "\n",
    "with np.printoptions(precision=2, suppress=True):\n",
    "  print('First example:', first)\n",
    "  print()\n",
    "  print('Normalized:', normalizer(first).numpy())"
   ]
  },
  {
   "cell_type": "code",
   "execution_count": 38,
   "metadata": {},
   "outputs": [],
   "source": [
    "def build_and_compile_model(norm):\n",
    "  model = keras.Sequential([\n",
    "      norm,\n",
    "      layers.Dense(64, activation='relu'),\n",
    "      layers.Dense(64, activation='relu'),\n",
    "      layers.Dense(1)\n",
    "  ])\n",
    "\n",
    "  model.compile(loss='mean_absolute_error',\n",
    "                optimizer=tf.keras.optimizers.Adam(0.001))\n",
    "  return model"
   ]
  },
  {
   "cell_type": "code",
   "execution_count": 61,
   "metadata": {},
   "outputs": [
    {
     "name": "stdout",
     "output_type": "stream",
     "text": [
      "Model: \"sequential_10\"\n",
      "_________________________________________________________________\n",
      " Layer (type)                Output Shape              Param #   \n",
      "=================================================================\n",
      " normalization_15 (Normaliza  (None, 9)                3         \n",
      " tion)                                                           \n",
      "                                                                 \n",
      " dense_52 (Dense)            (None, 64)                640       \n",
      "                                                                 \n",
      " dense_53 (Dense)            (None, 64)                4160      \n",
      "                                                                 \n",
      " dense_54 (Dense)            (None, 1)                 65        \n",
      "                                                                 \n",
      "=================================================================\n",
      "Total params: 4,868\n",
      "Trainable params: 4,865\n",
      "Non-trainable params: 3\n",
      "_________________________________________________________________\n"
     ]
    },
    {
     "data": {
      "text/plain": [
       "None"
      ]
     },
     "metadata": {},
     "output_type": "display_data"
    },
    {
     "data": {
      "text/html": [
       "<div>\n",
       "<style scoped>\n",
       "    .dataframe tbody tr th:only-of-type {\n",
       "        vertical-align: middle;\n",
       "    }\n",
       "\n",
       "    .dataframe tbody tr th {\n",
       "        vertical-align: top;\n",
       "    }\n",
       "\n",
       "    .dataframe thead th {\n",
       "        text-align: right;\n",
       "    }\n",
       "</style>\n",
       "<table border=\"1\" class=\"dataframe\">\n",
       "  <thead>\n",
       "    <tr style=\"text-align: right;\">\n",
       "      <th></th>\n",
       "      <th>loss</th>\n",
       "      <th>val_loss</th>\n",
       "      <th>epoch</th>\n",
       "    </tr>\n",
       "  </thead>\n",
       "  <tbody>\n",
       "    <tr>\n",
       "      <th>95</th>\n",
       "      <td>3.057238</td>\n",
       "      <td>2.954131</td>\n",
       "      <td>95</td>\n",
       "    </tr>\n",
       "    <tr>\n",
       "      <th>96</th>\n",
       "      <td>3.023371</td>\n",
       "      <td>2.955534</td>\n",
       "      <td>96</td>\n",
       "    </tr>\n",
       "    <tr>\n",
       "      <th>97</th>\n",
       "      <td>3.023872</td>\n",
       "      <td>2.949449</td>\n",
       "      <td>97</td>\n",
       "    </tr>\n",
       "    <tr>\n",
       "      <th>98</th>\n",
       "      <td>3.017787</td>\n",
       "      <td>2.955465</td>\n",
       "      <td>98</td>\n",
       "    </tr>\n",
       "    <tr>\n",
       "      <th>99</th>\n",
       "      <td>3.030964</td>\n",
       "      <td>2.952008</td>\n",
       "      <td>99</td>\n",
       "    </tr>\n",
       "  </tbody>\n",
       "</table>\n",
       "</div>"
      ],
      "text/plain": [
       "        loss  val_loss  epoch\n",
       "95  3.057238  2.954131     95\n",
       "96  3.023371  2.955534     96\n",
       "97  3.023872  2.949449     97\n",
       "98  3.017787  2.955465     98\n",
       "99  3.030964  2.952008     99"
      ]
     },
     "execution_count": 61,
     "metadata": {},
     "output_type": "execute_result"
    }
   ],
   "source": [
    "normalizer = layers.Normalization(input_shape=[9,], axis=None)\n",
    "normalizer.adapt(train_features)\n",
    "dnn_model = build_and_compile_model(normalizer)\n",
    "display(dnn_model.summary())\n",
    "history = dnn_model.fit(\n",
    "    train_features,\n",
    "    train_labels,\n",
    "    validation_split=0.2,\n",
    "    verbose=0, epochs=100)\n",
    "\n",
    "hist = pd.DataFrame(history.history)\n",
    "hist['epoch'] = history.epoch\n",
    "hist.tail()\n"
   ]
  },
  {
   "cell_type": "code",
   "execution_count": 64,
   "metadata": {},
   "outputs": [
    {
     "name": "stdout",
     "output_type": "stream",
     "text": [
      "Model: \"model_11\"\n",
      "__________________________________________________________________________________________________\n",
      " Layer (type)                   Output Shape         Param #     Connected to                     \n",
      "==================================================================================================\n",
      " input_18 (InputLayer)          [(None, 9)]          0           []                               \n",
      "                                                                                                  \n",
      " normalization_18 (Normalizatio  (None, 9)           3           ['input_18[0][0]']               \n",
      " n)                                                                                               \n",
      "                                                                                                  \n",
      " dense_61 (Dense)               (None, 64)           640         ['normalization_18[0][0]']       \n",
      "                                                                                                  \n",
      " dense_62 (Dense)               (None, 64)           4160        ['dense_61[0][0]']               \n",
      "                                                                                                  \n",
      " dense_63 (Dense)               (None, 1)            65          ['dense_62[0][0]']               \n",
      "                                                                                                  \n",
      " dense_66 (Dense)               (None, 1)            65          ['dense_62[0][0]']               \n",
      "                                                                                                  \n",
      " concatenate_11 (Concatenate)   (None, 2)            0           ['dense_63[0][0]',               \n",
      "                                                                  'dense_66[0][0]']               \n",
      "                                                                                                  \n",
      "==================================================================================================\n",
      "Total params: 4,933\n",
      "Trainable params: 4,930\n",
      "Non-trainable params: 3\n",
      "__________________________________________________________________________________________________\n"
     ]
    },
    {
     "data": {
      "text/plain": [
       "None"
      ]
     },
     "metadata": {},
     "output_type": "display_data"
    },
    {
     "data": {
      "text/html": [
       "<div>\n",
       "<style scoped>\n",
       "    .dataframe tbody tr th:only-of-type {\n",
       "        vertical-align: middle;\n",
       "    }\n",
       "\n",
       "    .dataframe tbody tr th {\n",
       "        vertical-align: top;\n",
       "    }\n",
       "\n",
       "    .dataframe thead th {\n",
       "        text-align: right;\n",
       "    }\n",
       "</style>\n",
       "<table border=\"1\" class=\"dataframe\">\n",
       "  <thead>\n",
       "    <tr style=\"text-align: right;\">\n",
       "      <th></th>\n",
       "      <th>loss</th>\n",
       "      <th>val_loss</th>\n",
       "      <th>epoch</th>\n",
       "    </tr>\n",
       "  </thead>\n",
       "  <tbody>\n",
       "    <tr>\n",
       "      <th>95</th>\n",
       "      <td>3.014404</td>\n",
       "      <td>2.953662</td>\n",
       "      <td>95</td>\n",
       "    </tr>\n",
       "    <tr>\n",
       "      <th>96</th>\n",
       "      <td>3.027788</td>\n",
       "      <td>2.938610</td>\n",
       "      <td>96</td>\n",
       "    </tr>\n",
       "    <tr>\n",
       "      <th>97</th>\n",
       "      <td>3.028945</td>\n",
       "      <td>2.941897</td>\n",
       "      <td>97</td>\n",
       "    </tr>\n",
       "    <tr>\n",
       "      <th>98</th>\n",
       "      <td>3.020626</td>\n",
       "      <td>2.945016</td>\n",
       "      <td>98</td>\n",
       "    </tr>\n",
       "    <tr>\n",
       "      <th>99</th>\n",
       "      <td>3.028117</td>\n",
       "      <td>2.939891</td>\n",
       "      <td>99</td>\n",
       "    </tr>\n",
       "  </tbody>\n",
       "</table>\n",
       "</div>"
      ],
      "text/plain": [
       "        loss  val_loss  epoch\n",
       "95  3.014404  2.953662     95\n",
       "96  3.027788  2.938610     96\n",
       "97  3.028945  2.941897     97\n",
       "98  3.020626  2.945016     98\n",
       "99  3.028117  2.939891     99"
      ]
     },
     "execution_count": 64,
     "metadata": {},
     "output_type": "execute_result"
    }
   ],
   "source": [
    "input_layer = layers.Input(train_features.shape[1:])\n",
    "\n",
    "normalizer = layers.Normalization(input_shape=[9,], axis=None)\n",
    "normalizer.adapt(train_features)\n",
    "normalizer = normalizer(input_layer)\n",
    "\n",
    "branch_a = layers.Dense(64, activation='relu')(normalizer)\n",
    "branch_a = layers.Dense(64, activation='relu')(branch_a)\n",
    "output_a = layers.Dense(1)(branch_a) # This will be one of my outputs, so I want a linear activation\n",
    "\n",
    "branch_b = layers.Dense(64, activation='relu')(normalizer)\n",
    "branch_b = layers.Dense(64, activation='relu')(branch_a)\n",
    "output_b = layers.Dense(1)(branch_a) # This will be one of my outputs, so I want a linear activation\n",
    "\n",
    "final_output = layers.Concatenate()([output_a, output_b])\n",
    "model = tf.keras.Model(input_layer, final_output)\n",
    "model.compile(loss='mean_absolute_error',\n",
    "                optimizer=tf.keras.optimizers.Adam(0.001))\n",
    "display(model.summary())\n",
    "\n",
    "history = model.fit(\n",
    "    train_features,\n",
    "    train_labels,\n",
    "    validation_split=0.2,\n",
    "    verbose=0, epochs=100)\n",
    "\n",
    "hist = pd.DataFrame(history.history)\n",
    "hist['epoch'] = history.epoch\n",
    "hist.tail()"
   ]
  },
  {
   "cell_type": "code",
   "execution_count": 146,
   "metadata": {},
   "outputs": [
    {
     "name": "stdout",
     "output_type": "stream",
     "text": [
      "Model: \"model_21\"\n",
      "__________________________________________________________________________________________________\n",
      " Layer (type)                   Output Shape         Param #     Connected to                     \n",
      "==================================================================================================\n",
      " input_29 (InputLayer)          [(None, 4)]          0           []                               \n",
      "                                                                                                  \n",
      " normalization_30 (Normalizatio  (None, 4)           3           ['input_29[0][0]']               \n",
      " n)                                                                                               \n",
      "                                                                                                  \n",
      " dense_89 (Dense)               (None, 1)            5           ['normalization_30[0][0]']       \n",
      "                                                                                                  \n",
      " dense_90 (Dense)               (None, 1)            5           ['normalization_30[0][0]']       \n",
      "                                                                                                  \n",
      " add (Add)                      (None, 1)            0           ['dense_89[0][0]',               \n",
      "                                                                  'dense_90[0][0]']               \n",
      "                                                                                                  \n",
      "==================================================================================================\n",
      "Total params: 13\n",
      "Trainable params: 10\n",
      "Non-trainable params: 3\n",
      "__________________________________________________________________________________________________\n"
     ]
    },
    {
     "data": {
      "text/plain": [
       "None"
      ]
     },
     "metadata": {},
     "output_type": "display_data"
    },
    {
     "data": {
      "text/html": [
       "<div>\n",
       "<style scoped>\n",
       "    .dataframe tbody tr th:only-of-type {\n",
       "        vertical-align: middle;\n",
       "    }\n",
       "\n",
       "    .dataframe tbody tr th {\n",
       "        vertical-align: top;\n",
       "    }\n",
       "\n",
       "    .dataframe thead th {\n",
       "        text-align: right;\n",
       "    }\n",
       "</style>\n",
       "<table border=\"1\" class=\"dataframe\">\n",
       "  <thead>\n",
       "    <tr style=\"text-align: right;\">\n",
       "      <th></th>\n",
       "      <th>loss</th>\n",
       "      <th>val_loss</th>\n",
       "      <th>epoch</th>\n",
       "    </tr>\n",
       "  </thead>\n",
       "  <tbody>\n",
       "    <tr>\n",
       "      <th>95</th>\n",
       "      <td>0.031278</td>\n",
       "      <td>0.051358</td>\n",
       "      <td>95</td>\n",
       "    </tr>\n",
       "    <tr>\n",
       "      <th>96</th>\n",
       "      <td>0.031799</td>\n",
       "      <td>0.053655</td>\n",
       "      <td>96</td>\n",
       "    </tr>\n",
       "    <tr>\n",
       "      <th>97</th>\n",
       "      <td>0.031395</td>\n",
       "      <td>0.052847</td>\n",
       "      <td>97</td>\n",
       "    </tr>\n",
       "    <tr>\n",
       "      <th>98</th>\n",
       "      <td>0.031502</td>\n",
       "      <td>0.050458</td>\n",
       "      <td>98</td>\n",
       "    </tr>\n",
       "    <tr>\n",
       "      <th>99</th>\n",
       "      <td>0.031958</td>\n",
       "      <td>0.053075</td>\n",
       "      <td>99</td>\n",
       "    </tr>\n",
       "  </tbody>\n",
       "</table>\n",
       "</div>"
      ],
      "text/plain": [
       "        loss  val_loss  epoch\n",
       "95  0.031278  0.051358     95\n",
       "96  0.031799  0.053655     96\n",
       "97  0.031395  0.052847     97\n",
       "98  0.031502  0.050458     98\n",
       "99  0.031958  0.053075     99"
      ]
     },
     "execution_count": 146,
     "metadata": {},
     "output_type": "execute_result"
    }
   ],
   "source": [
    "input_layer = layers.Input(train_features.shape[1:])\n",
    "\n",
    "normalizer = layers.Normalization(input_shape=[9,], axis=None)\n",
    "normalizer.adapt(train_features)\n",
    "normalizer = normalizer(input_layer)\n",
    "\n",
    "output_a = layers.Dense(1, activation='sigmoid')(normalizer)\n",
    "\n",
    "output_b = layers.Dense(1)(normalizer) # This will be one of my outputs, so I want a linear activation\n",
    "\n",
    "final_output = layers.Add()([output_a, output_b])\n",
    "model = tf.keras.Model(input_layer, final_output)\n",
    "\n",
    "def my_loss_fn(y_true, y_pred):\n",
    "    # squared_difference = tf.square(y_true - y_pred)\n",
    "    loss = abs(y_true - y_pred)\n",
    "    # return tf.reduce_mean(squared_difference, axis=-1) \n",
    "    return tf.reduce_mean(loss, axis=-1) \n",
    "\n",
    "model.compile(loss=my_loss_fn,\n",
    "                optimizer=tf.keras.optimizers.Adam(0.001))\n",
    "display(model.summary())\n",
    "\n",
    "history = model.fit(\n",
    "    train_features,\n",
    "    train_labels,\n",
    "    validation_split=0.2,\n",
    "    verbose=0, epochs=100)\n",
    "\n",
    "hist = pd.DataFrame(history.history)\n",
    "hist['epoch'] = history.epoch\n",
    "hist.tail()"
   ]
  }
 ],
 "metadata": {
  "kernelspec": {
   "display_name": "Python 3.8.10 ('dispatches')",
   "language": "python",
   "name": "python3"
  },
  "language_info": {
   "codemirror_mode": {
    "name": "ipython",
    "version": 3
   },
   "file_extension": ".py",
   "mimetype": "text/x-python",
   "name": "python",
   "nbconvert_exporter": "python",
   "pygments_lexer": "ipython3",
   "version": "3.8.10"
  },
  "orig_nbformat": 4,
  "vscode": {
   "interpreter": {
    "hash": "adc8d912f68e00b9537545a6770175a33b2964eab7b9aa765dfe6c46c3a9402b"
   }
  }
 },
 "nbformat": 4,
 "nbformat_minor": 2
}
